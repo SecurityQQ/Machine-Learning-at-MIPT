{
 "cells": [
  {
   "cell_type": "markdown",
   "metadata": {},
   "source": [
    "# Чтобы не мучиться с unicode, здесь используется Python 3"
   ]
  },
  {
   "cell_type": "code",
   "execution_count": 38,
   "metadata": {
    "collapsed": false,
    "deletable": true,
    "editable": true
   },
   "outputs": [],
   "source": [
    "import numpy as np\n",
    "import scipy.stats as sps\n",
    "import pandas as pd\n",
    "import matplotlib.pyplot as plt\n",
    "import pymorphy2\n",
    "from sklearn.feature_extraction.text import CountVectorizer\n",
    "from sklearn.linear_model import LogisticRegression\n",
    "from sklearn.metrics import roc_auc_score\n",
    "from sklearn.model_selection import cross_val_score\n",
    "%matplotlib inline"
   ]
  },
  {
   "cell_type": "code",
   "execution_count": 2,
   "metadata": {
    "collapsed": true,
    "deletable": true,
    "editable": true
   },
   "outputs": [],
   "source": [
    "morph = pymorphy2.MorphAnalyzer()"
   ]
  },
  {
   "cell_type": "code",
   "execution_count": 3,
   "metadata": {
    "collapsed": false,
    "deletable": true,
    "editable": true
   },
   "outputs": [],
   "source": [
    "train_data = pd.read_csv('linear_train.txt', header=-1, encoding='utf-8')"
   ]
  },
  {
   "cell_type": "code",
   "execution_count": 4,
   "metadata": {
    "collapsed": true,
    "deletable": true,
    "editable": true
   },
   "outputs": [],
   "source": [
    "test_data = pd.read_csv('linear_test.txt', header=-1, encoding='utf-8')"
   ]
  },
  {
   "cell_type": "markdown",
   "metadata": {},
   "source": [
    "Посмотрим, насколько хорошо получится предсказывать данные по словарю:"
   ]
  },
  {
   "cell_type": "code",
   "execution_count": 5,
   "metadata": {
    "collapsed": true,
    "deletable": true,
    "editable": true
   },
   "outputs": [],
   "source": [
    "from sklearn.metrics import roc_auc_score\n",
    "from sklearn.model_selection import train_test_split"
   ]
  },
  {
   "cell_type": "code",
   "execution_count": 6,
   "metadata": {
    "collapsed": true,
    "deletable": true,
    "editable": true
   },
   "outputs": [],
   "source": [
    "def parse_with_pymorphy_is_surn(word):\n",
    "    res = morph.parse(word)\n",
    "    prob = 0.0\n",
    "    for p in res:\n",
    "        if 'Surn' in p.tag:\n",
    "            prob += p.score\n",
    "    return prob"
   ]
  },
  {
   "cell_type": "code",
   "execution_count": 7,
   "metadata": {
    "collapsed": true,
    "deletable": true,
    "editable": true
   },
   "outputs": [],
   "source": [
    "y_predicts = np.array([parse_with_pymorphy_is_surn(w) for w in train_data[0]])"
   ]
  },
  {
   "cell_type": "code",
   "execution_count": 8,
   "metadata": {
    "collapsed": false,
    "deletable": true,
    "editable": true
   },
   "outputs": [
    {
     "name": "stdout",
     "output_type": "stream",
     "text": [
      "0.0\n",
      "0.651599067931\n",
      "0.15\n",
      "0.645495901736\n",
      "0.3\n",
      "0.637585788923\n",
      "0.45\n",
      "0.621640306887\n",
      "0.6\n",
      "0.60899407801\n",
      "0.75\n",
      "0.602868518745\n",
      "0.9\n",
      "0.598971839869\n"
     ]
    }
   ],
   "source": [
    "for off_set in np.arange(0.0, 1.0, 0.15):\n",
    "    print(off_set)\n",
    "    y_predicts_indicators = [*map(lambda x: 1 if x > off_set else 0, y_predicts)]\n",
    "    print(roc_auc_score(train_data[1], y_predicts_indicators))"
   ]
  },
  {
   "cell_type": "code",
   "execution_count": 9,
   "metadata": {
    "collapsed": true
   },
   "outputs": [],
   "source": [
    "train_data.columns = ['name', 'Y']"
   ]
  },
  {
   "cell_type": "code",
   "execution_count": 10,
   "metadata": {
    "collapsed": false,
    "deletable": true,
    "editable": true
   },
   "outputs": [],
   "source": [
    "is_surn_by_pymorphy = [parse_with_pymorphy_is_surn(w) for w in train_data['name']]"
   ]
  },
  {
   "cell_type": "code",
   "execution_count": 72,
   "metadata": {
    "collapsed": true
   },
   "outputs": [],
   "source": [
    "is_surn_by_pymorphy_test = [parse_with_pymorphy_is_surn(w) for w in test_data[0]]"
   ]
  },
  {
   "cell_type": "code",
   "execution_count": 11,
   "metadata": {
    "collapsed": true
   },
   "outputs": [],
   "source": [
    "train_data['pymorphy'] = is_surn_by_pymorphy"
   ]
  },
  {
   "cell_type": "code",
   "execution_count": 75,
   "metadata": {
    "collapsed": true
   },
   "outputs": [],
   "source": [
    "test_data['pymorphy'] = is_surn_by_pymorphy_test"
   ]
  },
  {
   "cell_type": "code",
   "execution_count": 13,
   "metadata": {
    "collapsed": true,
    "deletable": true,
    "editable": true
   },
   "outputs": [],
   "source": [
    "def lower(s):\n",
    "    return s[0] + s[1:].lower()"
   ]
  },
  {
   "cell_type": "code",
   "execution_count": 14,
   "metadata": {
    "collapsed": false,
    "deletable": true,
    "editable": true
   },
   "outputs": [],
   "source": [
    "train_data['name'] = train_data['name'].apply(lower)"
   ]
  },
  {
   "cell_type": "code",
   "execution_count": 76,
   "metadata": {
    "collapsed": false
   },
   "outputs": [],
   "source": [
    "test_data[0] = test_data[0].apply(lower)"
   ]
  },
  {
   "cell_type": "code",
   "execution_count": 15,
   "metadata": {
    "collapsed": false,
    "deletable": true,
    "editable": true
   },
   "outputs": [],
   "source": [
    "# test_data[0] = test_data[0].apply(lower)"
   ]
  },
  {
   "cell_type": "code",
   "execution_count": 16,
   "metadata": {
    "collapsed": false,
    "deletable": true,
    "editable": true
   },
   "outputs": [],
   "source": [
    "# items = test_data.groupby(0).size()"
   ]
  },
  {
   "cell_type": "code",
   "execution_count": 17,
   "metadata": {
    "collapsed": true,
    "deletable": true,
    "editable": true
   },
   "outputs": [],
   "source": [
    "# dublicates = [el for el in items[items > 1].index]"
   ]
  },
  {
   "cell_type": "code",
   "execution_count": 80,
   "metadata": {
    "collapsed": false
   },
   "outputs": [],
   "source": [
    "train_data['correct_capitalisation'] = [1 if s.capitalize() == s else 0 for s in train_data['name']]"
   ]
  },
  {
   "cell_type": "code",
   "execution_count": 81,
   "metadata": {
    "collapsed": false
   },
   "outputs": [],
   "source": [
    "test_data['correct_capitalisation'] = [1 if s.capitalize() == s else 0 for s in test_data[0]]"
   ]
  },
  {
   "cell_type": "code",
   "execution_count": 82,
   "metadata": {
    "collapsed": false
   },
   "outputs": [],
   "source": [
    "from collections import Counter"
   ]
  },
  {
   "cell_type": "code",
   "execution_count": 83,
   "metadata": {
    "collapsed": false
   },
   "outputs": [],
   "source": [
    "common_endings_for_last_name = [x[-3:] for (x, y) in zip(train_data['name'], train_data['Y']) if len(x) > 5 and y == 1]\n",
    "c1 = Counter(common_endings_for_last_name)\n",
    "c2 = Counter([x[-3:] for (x, y) in zip(train_data['name'], train_data['Y']) if x[-3:] in common_endings_for_last_name])\n",
    "p_last_name_by_ending = [(ending, (c1[ending] / c2[ending]), c2[ending]) for ending in common_endings_for_last_name]"
   ]
  },
  {
   "cell_type": "code",
   "execution_count": 84,
   "metadata": {
    "collapsed": false
   },
   "outputs": [
    {
     "data": {
      "text/plain": [
       "<matplotlib.collections.PathCollection at 0x10d203198>"
      ]
     },
     "execution_count": 84,
     "metadata": {},
     "output_type": "execute_result"
    },
    {
     "data": {
      "image/png": "[encoded data removed]",
      "text/plain": [
       "<matplotlib.figure.Figure at 0x10b73b940>"
      ]
     },
     "metadata": {},
     "output_type": "display_data"
    }
   ],
   "source": [
    "plt.scatter([*map(lambda x: x[2], p_last_name_by_ending)], [*map(lambda x: x[1], p_last_name_by_ending)])"
   ]
  },
  {
   "cell_type": "code",
   "execution_count": 85,
   "metadata": {
    "collapsed": false
   },
   "outputs": [],
   "source": [
    "valuable_endings = [*map(lambda x: (x[0], x[1]), filter(lambda x: x[2] > 50 and x[1] > 0.05, p_last_name_by_ending))]\n",
    "valuable_endings = {key: value for (key, value) in valuable_endings}\n",
    "train_data['ending3'] = [valuable_endings[name[-3:]]  if name[-3:] in valuable_endings else 0 for name in train_data['name']]"
   ]
  },
  {
   "cell_type": "code",
   "execution_count": 86,
   "metadata": {
    "collapsed": true
   },
   "outputs": [],
   "source": [
    "test_data['ending3'] = [valuable_endings[s[-3:]] if s[-3:] in valuable_endings else 0 for s in test_data[0]]"
   ]
  },
  {
   "cell_type": "code",
   "execution_count": 87,
   "metadata": {
    "collapsed": false
   },
   "outputs": [],
   "source": [
    "common_endings2_for_last_name = [x[-2:] for (x, y) in zip(train_data['name'], train_data['Y']) if len(x) > 5 and y == 1]"
   ]
  },
  {
   "cell_type": "code",
   "execution_count": 88,
   "metadata": {
    "collapsed": false
   },
   "outputs": [],
   "source": [
    "c1 = Counter(common_endings2_for_last_name)\n",
    "c2 = Counter([x[-2:] for (x, y) in zip(train_data['name'], train_data['Y']) if x[-2:] in common_endings2_for_last_name])\n",
    "p_last_name_by_ending2 = [(ending, (c1[ending] / c2[ending]), c2[ending]) for ending in common_endings2_for_last_name]"
   ]
  },
  {
   "cell_type": "code",
   "execution_count": 89,
   "metadata": {
    "collapsed": false
   },
   "outputs": [
    {
     "data": {
      "text/plain": [
       "<matplotlib.collections.PathCollection at 0x109a6a080>"
      ]
     },
     "execution_count": 89,
     "metadata": {},
     "output_type": "execute_result"
    },
    {
     "data": {
      "image/png": "[encoded data removed]",
      "text/plain": [
       "<matplotlib.figure.Figure at 0x10b73b208>"
      ]
     },
     "metadata": {},
     "output_type": "display_data"
    }
   ],
   "source": [
    "plt.scatter([*map(lambda x: x[2], p_last_name_by_ending2)], [*map(lambda x: x[1], p_last_name_by_ending2)])"
   ]
  },
  {
   "cell_type": "code",
   "execution_count": 90,
   "metadata": {
    "collapsed": false
   },
   "outputs": [],
   "source": [
    "valuable_endings2 = [*map(lambda x: (x[0], x[1]), filter(lambda x: x[2] > 50 and x[1] > 0.05, p_last_name_by_ending2))]\n",
    "valuable_endings2 = {key: value for (key, value) in valuable_endings2}\n",
    "train_data['ending2'] = [valuable_endings2[name[-2:]]  if name[-2:] in valuable_endings2 else 0 for name in train_data['name']]"
   ]
  },
  {
   "cell_type": "code",
   "execution_count": 91,
   "metadata": {
    "collapsed": true
   },
   "outputs": [],
   "source": [
    "test_data['ending2'] = [valuable_endings2[s[-2:]] if s[-2:] in valuable_endings2 else 0 for s in test_data[0]]"
   ]
  },
  {
   "cell_type": "markdown",
   "metadata": {},
   "source": [
    "Длины"
   ]
  },
  {
   "cell_type": "code",
   "execution_count": 110,
   "metadata": {
    "collapsed": false
   },
   "outputs": [
    {
     "data": {
      "text/plain": [
       "(array([   39.,   962.,  3193.,  2078.,  3010.,  1058.,   168.,   108.,\n",
       "           15.,     7.]),\n",
       " array([  1. ,   2.7,   4.4,   6.1,   7.8,   9.5,  11.2,  12.9,  14.6,\n",
       "         16.3,  18. ]),\n",
       " <a list of 10 Patch objects>)"
      ]
     },
     "execution_count": 110,
     "metadata": {},
     "output_type": "execute_result"
    },
    {
     "data": {
      "image/png": "[encoded data removed]",
      "text/plain": [
       "<matplotlib.figure.Figure at 0x10bf7bf60>"
      ]
     },
     "metadata": {},
     "output_type": "display_data"
    }
   ],
   "source": [
    "lens_1 = [*(map(lambda x: len(x), train_data[train_data['Y'] == 1]['name']))]\n",
    "plt.hist(lens_1)"
   ]
  },
  {
   "cell_type": "code",
   "execution_count": 109,
   "metadata": {
    "collapsed": false
   },
   "outputs": [
    {
     "data": {
      "text/plain": [
       "(array([  4.65900000e+03,   3.10240000e+04,   3.34940000e+04,\n",
       "          1.59930000e+04,   4.60100000e+03,   9.46000000e+02,\n",
       "          4.70000000e+01,   4.00000000e+00,   0.00000000e+00,\n",
       "          2.00000000e+00]),\n",
       " array([  1. ,   4.2,   7.4,  10.6,  13.8,  17. ,  20.2,  23.4,  26.6,\n",
       "         29.8,  33. ]),\n",
       " <a list of 10 Patch objects>)"
      ]
     },
     "execution_count": 109,
     "metadata": {},
     "output_type": "execute_result"
    },
    {
     "data": {
      "image/png": "[encoded data removed]",
      "text/plain": [
       "<matplotlib.figure.Figure at 0x10b463390>"
      ]
     },
     "metadata": {},
     "output_type": "display_data"
    }
   ],
   "source": [
    "lens_0 = [*(map(lambda x: len(x), train_data[train_data['Y'] == 0]['name']))]\n",
    "plt.hist(lens_0)"
   ]
  },
  {
   "cell_type": "code",
   "execution_count": 114,
   "metadata": {
    "collapsed": false
   },
   "outputs": [
    {
     "data": {
      "text/plain": [
       "(array([ 0.00215653,  0.05319443,  0.17655906,  0.11490439,  0.16643995,\n",
       "         0.05850281,  0.00928967,  0.00597193,  0.00082943,  0.00038707]),\n",
       " array([  1. ,   2.7,   4.4,   6.1,   7.8,   9.5,  11.2,  12.9,  14.6,\n",
       "         16.3,  18. ]),\n",
       " <a list of 10 Patch objects>)"
      ]
     },
     "execution_count": 114,
     "metadata": {},
     "output_type": "execute_result"
    },
    {
     "data": {
      "image/png": "[encoded data removed]",
      "text/plain": [
       "<matplotlib.figure.Figure at 0x10c83b5f8>"
      ]
     },
     "metadata": {},
     "output_type": "display_data"
    }
   ],
   "source": [
    "plt.hist(lens_0, normed=True, color='red')\n",
    "plt.hist(lens_1, normed=True, color='green')"
   ]
  },
  {
   "cell_type": "code",
   "execution_count": 115,
   "metadata": {
    "collapsed": true
   },
   "outputs": [],
   "source": [
    "train_data['len'] = [len(s) for s in train_data['name']]\n",
    "test_data['len'] = [len(s) for s in test_data[0]]"
   ]
  },
  {
   "cell_type": "code",
   "execution_count": 116,
   "metadata": {
    "collapsed": false
   },
   "outputs": [],
   "source": [
    "X = train_data[['correct_capitalisation', 'ending3', 'ending2', 'pymorphy', 'len']]\n",
    "Y = train_data['Y']"
   ]
  },
  {
   "cell_type": "code",
   "execution_count": 121,
   "metadata": {
    "collapsed": false
   },
   "outputs": [],
   "source": [
    "estimator = LogisticRegression(penalty='l2',\n",
    "                               dual=False,\n",
    "                               tol=0.0001,\n",
    "                               C=1,\n",
    "                               fit_intercept=True,\n",
    "                               intercept_scaling=1,\n",
    "                               random_state=42,\n",
    "                               solver='liblinear',\n",
    "                               max_iter=500,\n",
    "                               multi_class='ovr',\n",
    "                               verbose=0,\n",
    "                               warm_start=False,\n",
    "                               n_jobs=1)"
   ]
  },
  {
   "cell_type": "code",
   "execution_count": 122,
   "metadata": {
    "collapsed": false
   },
   "outputs": [
    {
     "data": {
      "text/plain": [
       "array([ 0.88674373,  0.86920193,  0.84673927])"
      ]
     },
     "execution_count": 122,
     "metadata": {},
     "output_type": "execute_result"
    }
   ],
   "source": [
    "cross_val_score(estimator, X=X, y=Y, scoring='roc_auc')"
   ]
  },
  {
   "cell_type": "code",
   "execution_count": 123,
   "metadata": {
    "collapsed": false
   },
   "outputs": [
    {
     "data": {
      "text/plain": [
       "LogisticRegression(C=1, class_weight=None, dual=False, fit_intercept=True,\n",
       "          intercept_scaling=1, max_iter=500, multi_class='ovr', n_jobs=1,\n",
       "          penalty='l2', random_state=42, solver='liblinear', tol=0.0001,\n",
       "          verbose=0, warm_start=False)"
      ]
     },
     "execution_count": 123,
     "metadata": {},
     "output_type": "execute_result"
    }
   ],
   "source": [
    "estimator.fit(X[:50000], Y[:50000])"
   ]
  },
  {
   "cell_type": "code",
   "execution_count": 124,
   "metadata": {
    "collapsed": false
   },
   "outputs": [],
   "source": [
    "pr = estimator.predict_proba(X[50000:])"
   ]
  },
  {
   "cell_type": "code",
   "execution_count": 125,
   "metadata": {
    "collapsed": false
   },
   "outputs": [
    {
     "data": {
      "text/plain": [
       "0.84869481599517682"
      ]
     },
     "execution_count": 125,
     "metadata": {},
     "output_type": "execute_result"
    }
   ],
   "source": [
    "roc_auc_score(Y[50000:], pr[:, 1])"
   ]
  },
  {
   "cell_type": "code",
   "execution_count": 127,
   "metadata": {
    "collapsed": false
   },
   "outputs": [],
   "source": [
    "estimator = LogisticRegression(penalty='l2',\n",
    "                               dual=False,\n",
    "                               tol=0.0001,\n",
    "                               C=1,\n",
    "                               fit_intercept=True,\n",
    "                               intercept_scaling=1,\n",
    "                               random_state=42,\n",
    "                               solver='liblinear',\n",
    "                               max_iter=500,\n",
    "                               multi_class='ovr',\n",
    "                               verbose=0,\n",
    "                               warm_start=False,\n",
    "                               n_jobs=1)"
   ]
  },
  {
   "cell_type": "code",
   "execution_count": 128,
   "metadata": {
    "collapsed": false
   },
   "outputs": [
    {
     "data": {
      "text/plain": [
       "LogisticRegression(C=1, class_weight=None, dual=False, fit_intercept=True,\n",
       "          intercept_scaling=1, max_iter=500, multi_class='ovr', n_jobs=1,\n",
       "          penalty='l2', random_state=42, solver='liblinear', tol=0.0001,\n",
       "          verbose=0, warm_start=False)"
      ]
     },
     "execution_count": 128,
     "metadata": {},
     "output_type": "execute_result"
    }
   ],
   "source": [
    "estimator.fit(X, Y)"
   ]
  },
  {
   "cell_type": "code",
   "execution_count": 129,
   "metadata": {
    "collapsed": true
   },
   "outputs": [],
   "source": [
    "X_test = test_data[['correct_capitalisation', 'ending3', 'ending2', 'pymorphy', 'len']]"
   ]
  },
  {
   "cell_type": "code",
   "execution_count": 130,
   "metadata": {
    "collapsed": true
   },
   "outputs": [],
   "source": [
    "ans = pd.read_csv('linear_ans_example.txt')"
   ]
  },
  {
   "cell_type": "code",
   "execution_count": 132,
   "metadata": {
    "collapsed": false
   },
   "outputs": [
    {
     "data": {
      "text/plain": [
       "(188920, 188920)"
      ]
     },
     "execution_count": 132,
     "metadata": {},
     "output_type": "execute_result"
    }
   ],
   "source": [
    "len(ans['Answer']), len(estimator.predict(X_test))"
   ]
  },
  {
   "cell_type": "code",
   "execution_count": 133,
   "metadata": {
    "collapsed": true
   },
   "outputs": [],
   "source": [
    "ans['Answer'] = estimator.predict_proba(X_test)"
   ]
  },
  {
   "cell_type": "code",
   "execution_count": 134,
   "metadata": {
    "collapsed": true
   },
   "outputs": [],
   "source": [
    "ans.to_csv(\"ans_v1.tsv\", sep=',', index=False)  # final solution"
   ]
  },
  {
   "cell_type": "code",
   "execution_count": null,
   "metadata": {
    "collapsed": true
   },
   "outputs": [],
   "source": []
  },
  {
   "cell_type": "markdown",
   "metadata": {},
   "source": [
    "Без pymorphy:"
   ]
  },
  {
   "cell_type": "code",
   "execution_count": 190,
   "metadata": {
    "collapsed": false
   },
   "outputs": [
    {
     "data": {
      "text/plain": [
       "LogisticRegression(C=1, class_weight=None, dual=False, fit_intercept=True,\n",
       "          intercept_scaling=1, max_iter=500, multi_class='ovr', n_jobs=1,\n",
       "          penalty='l2', random_state=42, solver='liblinear', tol=0.0001,\n",
       "          verbose=0, warm_start=False)"
      ]
     },
     "execution_count": 190,
     "metadata": {},
     "output_type": "execute_result"
    }
   ],
   "source": [
    "X = train_data[['correct_capitalisation', 'ending3', 'ending2', 'len']]\n",
    "Y = train_data['Y']\n",
    "estimator = LogisticRegression(penalty='l2',\n",
    "                               dual=False,\n",
    "                               tol=0.0001,\n",
    "                               C=1,\n",
    "                               fit_intercept=True,\n",
    "                               intercept_scaling=1,\n",
    "                               random_state=42,\n",
    "                               solver='liblinear',\n",
    "                               max_iter=500,\n",
    "                               multi_class='ovr',\n",
    "                               verbose=0,\n",
    "                               warm_start=False,\n",
    "                               n_jobs=1)\n",
    "estimator.fit(X, Y)"
   ]
  },
  {
   "cell_type": "code",
   "execution_count": 191,
   "metadata": {
    "collapsed": true
   },
   "outputs": [],
   "source": [
    "X_test = test_data[['correct_capitalisation', 'ending3', 'ending2', 'len']]"
   ]
  },
  {
   "cell_type": "code",
   "execution_count": 192,
   "metadata": {
    "collapsed": true
   },
   "outputs": [],
   "source": [
    "ans = pd.read_csv('linear_ans_example.txt')"
   ]
  },
  {
   "cell_type": "code",
   "execution_count": 193,
   "metadata": {
    "collapsed": true
   },
   "outputs": [],
   "source": [
    "ans['Answer'] = estimator.predict_proba(X_test)"
   ]
  },
  {
   "cell_type": "code",
   "execution_count": 194,
   "metadata": {
    "collapsed": true
   },
   "outputs": [],
   "source": [
    "ans.to_csv(\"ans_no_pm.tsv\", sep=',', index=False)  # final solution"
   ]
  },
  {
   "cell_type": "markdown",
   "metadata": {},
   "source": [
    "В первом способе есть зависимость при кросс-валидации. Попробую сделать по-другому, через n-grammы"
   ]
  },
  {
   "cell_type": "code",
   "execution_count": 162,
   "metadata": {
    "collapsed": true
   },
   "outputs": [],
   "source": [
    "from nltk import ngrams\n",
    "from sklearn.pipeline import Pipeline\n",
    "from sklearn.pipeline import make_pipeline\n",
    "from sklearn.feature_extraction.text import TfidfTransformer"
   ]
  },
  {
   "cell_type": "code",
   "execution_count": 181,
   "metadata": {
    "collapsed": true
   },
   "outputs": [],
   "source": [
    "estimator = LogisticRegression(penalty='l1',\n",
    "                               dual=False,\n",
    "                               tol=0.0001,\n",
    "                               C=1,\n",
    "                               fit_intercept=True,\n",
    "                               intercept_scaling=1,\n",
    "                               random_state=42,\n",
    "                               solver='liblinear',\n",
    "                               max_iter=500,\n",
    "                               multi_class='ovr',\n",
    "                               verbose=0,\n",
    "                               warm_start=False,\n",
    "                               n_jobs=1)"
   ]
  },
  {
   "cell_type": "code",
   "execution_count": 184,
   "metadata": {
    "collapsed": false
   },
   "outputs": [],
   "source": [
    "ngram_vectorizer = CountVectorizer(analyzer='char_wb', ngram_range=(2, 3), min_df=1)"
   ]
  },
  {
   "cell_type": "code",
   "execution_count": 185,
   "metadata": {
    "collapsed": false
   },
   "outputs": [
    {
     "name": "stdout",
     "output_type": "stream",
     "text": [
      "[ 0.64657664  0.6334594   0.82899272]\n",
      "0.703009586082\n"
     ]
    }
   ],
   "source": [
    "pipeline = make_pipeline(ngram_vectorizer, TfidfTransformer(), estimator)\n",
    "arr = cross_val_score(pipeline, train_data['name'], train_data['Y'], cv=3, scoring='roc_auc')\n",
    "print(arr)\n",
    "print(np.mean(arr))"
   ]
  },
  {
   "cell_type": "code",
   "execution_count": 155,
   "metadata": {
    "collapsed": false
   },
   "outputs": [
    {
     "data": {
      "text/plain": [
       "[('й', 'к'),\n",
       " ('к', 'у'),\n",
       " ('у', 'н'),\n",
       " ('н', 'е'),\n",
       " ('е', 'и'),\n",
       " ('и', 'а'),\n",
       " ('а', 'н'),\n",
       " ('й', 'к', 'у'),\n",
       " ('к', 'у', 'н'),\n",
       " ('у', 'н', 'е'),\n",
       " ('н', 'е', 'и'),\n",
       " ('е', 'и', 'а'),\n",
       " ('и', 'а', 'н'),\n",
       " ('й', 'к', 'у', 'н'),\n",
       " ('к', 'у', 'н', 'е'),\n",
       " ('у', 'н', 'е', 'и'),\n",
       " ('н', 'е', 'и', 'а'),\n",
       " ('е', 'и', 'а', 'н')]"
      ]
     },
     "execution_count": 155,
     "metadata": {},
     "output_type": "execute_result"
    }
   ],
   "source": [
    "process_ngrams('Йкунеиан')"
   ]
  },
  {
   "cell_type": "markdown",
   "metadata": {},
   "source": [
    "## TODO: (maybe)"
   ]
  },
  {
   "cell_type": "code",
   "execution_count": null,
   "metadata": {
    "collapsed": true
   },
   "outputs": [],
   "source": []
  }
 ],
 "metadata": {
  "kernelspec": {
   "display_name": "Python3",
   "language": "python",
   "name": "python3"
  },
  "language_info": {
   "codemirror_mode": {
    "name": "ipython",
    "version": 3
   },
   "file_extension": ".py",
   "mimetype": "text/x-python",
   "name": "python",
   "nbconvert_exporter": "python",
   "pygments_lexer": "ipython3",
   "version": "3.6.1"
  }
 },
 "nbformat": 4,
 "nbformat_minor": 2
}
