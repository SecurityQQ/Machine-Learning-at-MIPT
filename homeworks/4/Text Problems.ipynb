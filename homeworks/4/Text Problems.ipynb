{
 "cells": [
  {
   "cell_type": "markdown",
   "metadata": {
    "deletable": true,
    "editable": true
   },
   "source": [
    "## Задача 3.1"
   ]
  },
  {
   "cell_type": "markdown",
   "metadata": {
    "deletable": true,
    "editable": true
   },
   "source": [
    "Как выглядит бинарный линейный классификатор? (Формула для отображения из мно- жества объектов в множество классов.)?"
   ]
  },
  {
   "cell_type": "markdown",
   "metadata": {
    "deletable": true,
    "editable": true
   },
   "source": [
    "$sign(<w, x> + w_0)$"
   ]
  },
  {
   "cell_type": "markdown",
   "metadata": {
    "deletable": true,
    "editable": true
   },
   "source": [
    "Что такое отступ алгоритма на объекте? Какие выводы можно сделать из знака отступа?"
   ]
  },
  {
   "cell_type": "markdown",
   "metadata": {
    "deletable": true,
    "editable": true
   },
   "source": [
    "$M = (<w, x> + w_0) * y = f(x) * y$"
   ]
  },
  {
   "cell_type": "markdown",
   "metadata": {
    "deletable": true,
    "editable": true
   },
   "source": [
    "M > 0 -- класс верный, меньше 0 -- ошиблись"
   ]
  },
  {
   "cell_type": "markdown",
   "metadata": {
    "deletable": true,
    "editable": true
   },
   "source": [
    "Как классификаторы вида a(x) = sign(< w,x > −w0) сводят к классификаторам вида\n",
    "a(x) = sign(< w, x >)?"
   ]
  },
  {
   "cell_type": "markdown",
   "metadata": {
    "deletable": true,
    "editable": true
   },
   "source": [
    "Добавить у вектора w координату w_0, а у x координату -1"
   ]
  },
  {
   "cell_type": "markdown",
   "metadata": {
    "deletable": true,
    "editable": true
   },
   "source": [
    "Как выглядит запись функционала эмпирического риска через отступы? Какое значение\n",
    "он должен принимать для «наилучшего» алгоритма классификации?"
   ]
  },
  {
   "cell_type": "markdown",
   "metadata": {
    "deletable": true,
    "editable": true
   },
   "source": [
    "$\\sum [M_i \\leq 0]$, нулю"
   ]
  },
  {
   "cell_type": "markdown",
   "metadata": {
    "deletable": true,
    "editable": true
   },
   "source": [
    "Если в функционале эмпирического риска (риск с пороговой функцией потерь) всюду написаны строгие неравенства (Mi < 0) можете ли вы сразу придумать параметр w для алгоритма классификации a(x) = sign(< w, x >), минимизирующий такой функционал?\n"
   ]
  },
  {
   "cell_type": "markdown",
   "metadata": {
    "deletable": true,
    "editable": true
   },
   "source": [
    "Тождественный ноль"
   ]
  },
  {
   "cell_type": "markdown",
   "metadata": {
    "deletable": true,
    "editable": true
   },
   "source": [
    "Запишите функционал аппроксимированного эмпирического риска, если выбрана функ- ция потерь L(M)."
   ]
  },
  {
   "cell_type": "markdown",
   "metadata": {
    "deletable": true,
    "editable": true
   },
   "source": [
    "$\\sum(L(M_i(w)))$"
   ]
  },
  {
   "cell_type": "markdown",
   "metadata": {
    "deletable": true,
    "editable": true
   },
   "source": [
    "Что такое функция потерь, зачем она нужна? Как обычно выглядит ее график?"
   ]
  },
  {
   "cell_type": "markdown",
   "metadata": {
    "deletable": true,
    "editable": true
   },
   "source": [
    "Оценить эмперическую функцию потерь сложно -- функция потерь упрощение."
   ]
  },
  {
   "cell_type": "markdown",
   "metadata": {
    "deletable": true,
    "editable": true
   },
   "source": [
    "<img src=\"risk_est.png\">"
   ]
  },
  {
   "cell_type": "markdown",
   "metadata": {
    "deletable": true,
    "editable": true
   },
   "source": [
    "Приведите пример негладкой функции потерь."
   ]
  },
  {
   "cell_type": "markdown",
   "metadata": {
    "deletable": true,
    "editable": true
   },
   "source": [
    "$(1-M)_{+}$"
   ]
  },
  {
   "cell_type": "markdown",
   "metadata": {
    "deletable": true,
    "editable": true
   },
   "source": [
    "Что такое регуляризация? Какие регуляризаторы вы знаете?"
   ]
  },
  {
   "cell_type": "markdown",
   "metadata": {
    "deletable": true,
    "editable": true
   },
   "source": [
    "Штраф за величину $w_i$. $L0, L1, L2$ -- функции потерь $L0$-\"норма\", $L1$-норма, $L2$-норма. В принципе, годится любая функция от $w$"
   ]
  },
  {
   "cell_type": "markdown",
   "metadata": {
    "deletable": true,
    "editable": true
   },
   "source": [
    "Как связаны переобучение и обобщающая способность алгоритма? Как влияет регуля- ризация на обобщающую способность?"
   ]
  },
  {
   "cell_type": "markdown",
   "metadata": {
    "deletable": true,
    "editable": true
   },
   "source": [
    "При переобучении обобщающая способность резко понижается. Регуляризация -- способ понизить переобучение, тем самым не дать алгоритму ухудшать качество на тесте"
   ]
  },
  {
   "cell_type": "markdown",
   "metadata": {
    "deletable": true,
    "editable": true
   },
   "source": [
    "Как связаны острые минимумы функционала аппроксимированного эмпирического рис- ка с проблемой переобучения?"
   ]
  },
  {
   "cell_type": "markdown",
   "metadata": {
    "deletable": true,
    "editable": true
   },
   "source": [
    "Скорее всего это выбросы, а значит, ровняясь на них, возможно переобучение"
   ]
  },
  {
   "cell_type": "markdown",
   "metadata": {
    "deletable": true,
    "editable": true
   },
   "source": [
    "Что делает регуляризация с аппроксимированным риском как функцией параметров алгоритма?"
   ]
  },
  {
   "cell_type": "markdown",
   "metadata": {
    "deletable": true,
    "editable": true
   },
   "source": [
    "не дает переобучиться"
   ]
  },
  {
   "cell_type": "markdown",
   "metadata": {
    "deletable": true,
    "editable": true
   },
   "source": [
    "Для какого алгоритма классификации функционал аппроксимированного риска будет принимать большее значение на обучающей выборке: для построенного с регуляризаци- ей или без нее? Почему?"
   ]
  },
  {
   "cell_type": "markdown",
   "metadata": {
    "deletable": true,
    "editable": true
   },
   "source": [
    "Без регуляризации риск будет меньше, однако это будет переобучение. Регуляризация контролирует размеры весов w, без нее мы можем переобучиться"
   ]
  },
  {
   "cell_type": "markdown",
   "metadata": {
    "deletable": true,
    "editable": true
   },
   "source": [
    " Для какого алгоритма классификации функционал риска будет принимать большее зна- чение на тестовой выборке: для построенного с оправдывающей себя регуляризацией или вообще без нее? Почему?"
   ]
  },
  {
   "cell_type": "markdown",
   "metadata": {
    "deletable": true,
    "editable": true
   },
   "source": [
    "На тестовой без регуляризации почти наверное риск будет больше, чем с регуляризацией (если она выбрана корректно :))"
   ]
  },
  {
   "cell_type": "markdown",
   "metadata": {
    "deletable": true,
    "editable": true
   },
   "source": [
    "Что представляют собой метрики качества Accuracy, Precision и Recall?"
   ]
  },
  {
   "cell_type": "markdown",
   "metadata": {
    "deletable": true,
    "editable": true
   },
   "source": [
    "Это метрики качества для бинарной классификации.\n",
    "\n",
    "Accuracy - Доля правильных ответов при классификации\n",
    "\n",
    "Precision - точность, равная fp/(tp + fp)\n",
    "\n",
    "Recall - tp/(tp + fn)"
   ]
  },
  {
   "cell_type": "markdown",
   "metadata": {
    "deletable": true,
    "editable": true
   },
   "source": [
    "Что такое метрика качества AUC и ROC-кривая?"
   ]
  },
  {
   "cell_type": "markdown",
   "metadata": {
    "deletable": true,
    "editable": true
   },
   "source": [
    "AUC - площадь под ROC. ROC - кривая, которая строится так: для задачи бинарной классификации варьируется параметр w_0. Затем на график наносят точки (FPR, TPR), где TPR = TP / (TP + FN), FPR = FP / (FP + TN)"
   ]
  },
  {
   "cell_type": "markdown",
   "metadata": {
    "deletable": true,
    "editable": true
   },
   "source": [
    "Как построить ROC-кривую (нужен алгоритм), если например, у вас есть правильные ответы к домашнему заданию про фамилии и ваши прогнозы?"
   ]
  },
  {
   "cell_type": "markdown",
   "metadata": {
    "deletable": true,
    "editable": true
   },
   "source": [
    "Пусть прогнозы -- вероятности. Тогда пробежимся порогом-отсечкой $w_0$ от нуля до единицы и каждый раз будем предсказывать ответы. Затем посчитаем TPR, FPR и нанесем их на график."
   ]
  },
  {
   "cell_type": "markdown",
   "metadata": {
    "deletable": true,
    "editable": true
   },
   "source": [
    "## Задача 3.6"
   ]
  },
  {
   "cell_type": "markdown",
   "metadata": {
    "deletable": true,
    "editable": true
   },
   "source": [
    "Как построить ROC-кривую (нужен алгоритм), если например, у вас есть правильные ответы к домашнему заданию про фамилии и ваши прогнозы?"
   ]
  },
  {
   "cell_type": "markdown",
   "metadata": {
    "deletable": true,
    "editable": true
   },
   "source": [
    "Это метрики качества для бинарной классификации.\n",
    "\n",
    "Accuracy - Доля правильных ответов при классификации\n",
    "\n",
    "Precision - точность, равная fp/(tp + fp)\n",
    "\n",
    "Recall - tp/(tp + fn)"
   ]
  },
  {
   "cell_type": "markdown",
   "metadata": {
    "deletable": true,
    "editable": true
   },
   "source": [
    "Что такое метрика качества AUC и ROC-кривая?"
   ]
  },
  {
   "cell_type": "markdown",
   "metadata": {
    "deletable": true,
    "editable": true
   },
   "source": [
    "AUC - площадь под ROC. ROC - кривая, которая строится так: для задачи бинарной классификации варьируется параметр w_0. Затем на график наносят точки (FPR, TPR), где TPR = TP / (TP + FN), FPR = FP / (FP + TN)"
   ]
  },
  {
   "cell_type": "markdown",
   "metadata": {
    "deletable": true,
    "editable": true
   },
   "source": [
    "Как построить ROC-кривую (нужен алгоритм), если например, у вас есть правильные ответы к домашнему заданию про фамилии и ваши прогнозы?"
   ]
  },
  {
   "cell_type": "markdown",
   "metadata": {
    "deletable": true,
    "editable": true
   },
   "source": [
    "Пусть прогнозы -- вероятности. Тогда пробежимся порогом-отсечкой $w_0$ от нуля до единицы и каждый раз будем предсказывать ответы. Затем посчитаем TPR, FPR и нанесем их на график."
   ]
  },
  {
   "cell_type": "markdown",
   "metadata": {
    "collapsed": true,
    "deletable": true,
    "editable": true
   },
   "source": [
    "## Задача 3.2 и Задача 3.5 в этой же папке"
   ]
  },
  {
   "cell_type": "code",
   "execution_count": null,
   "metadata": {
    "collapsed": true
   },
   "outputs": [],
   "source": []
  }
 ],
 "metadata": {
  "kernelspec": {
   "display_name": "Python3",
   "language": "python",
   "name": "python3"
  },
  "language_info": {
   "codemirror_mode": {
    "name": "ipython",
    "version": 3
   },
   "file_extension": ".py",
   "mimetype": "text/x-python",
   "name": "python",
   "nbconvert_exporter": "python",
   "pygments_lexer": "ipython3",
   "version": "3.6.1"
  }
 },
 "nbformat": 4,
 "nbformat_minor": 2
}
