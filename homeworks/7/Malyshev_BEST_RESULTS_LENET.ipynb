{
 "cells": [
  {
   "cell_type": "markdown",
   "metadata": {
    "deletable": true,
    "editable": true
   },
   "source": [
    "<h1 align=\"center\">First of all -- Checking Questions</h1> \n",
    "\n",
    "**Вопрос 1**: Можно ли использовать сверточные сети для классификации текстов? Если нет обоснуйте :D, если да то как? как решить проблему с произвольной длинной входа?\n",
    "\n",
    "Можно делать onehot encoding для букв, затем делать свертки на последовательности фиксированной длины (это и будет решение для неогр. длины входа). Проблема в том, что мы не учитываем последовательность букв. Можно использовать n-граммы, но это сильно увеличивает и без того немаленький датасет + по большому счету это эвристика/костыль.\n",
    "\n",
    "**Вопрос 2**: Чем LSTM лучше/хуже чем обычная RNN?\n",
    "\n",
    "Ключевая особенность LSTM в том, что она может дольше сохранять информацию о прошлом, как следствие, лучше выучивает грамматику. Из минусов -- градиенты могут 'взорваться'.\n",
    "\n",
    "**Вопрос 3**:  Выпишите производную $\\frac{d c_{n+1}}{d c_{k}}$ для LSTM http://colah.github.io/posts/2015-08-Understanding-LSTMs/, объясните формулу, когда производная затухает, когда взрывается?\n",
    "\n",
    "$\\frac{d c_{n+1}}{d c_{k}} = \\frac{d c_{n+1}}{d c_{n}}\\frac{d c_{n}}{d c_{k}}$\n",
    "\n",
    "\n",
    "**Вопрос 4**: Зачем нужен TBPTT почему BPTT плох?\n",
    "\n",
    "У BPTT затухает градиент. TBPTT борется с этой проблемой: запуская BPTT определенное количество интераций каждое фиксированное количество шагов.\n",
    "\n",
    "\n",
    "**Вопрос 5**: Как комбинировать рекуррентные и сверточные сети, а главное зачем? Приведите несколько примеров реальных задач.\n",
    "\n",
    "По картинкам генерировать описание, звуки. Можно делать image captioning для видео и делать style transfer, генерировать новые названия получившимся объектам и т.п.\n",
    "\n",
    "**Вопрос 6**: Объясните интуицию выбора размера эмбединг слоя? почему это опасное место?\n",
    "\n",
    "Взаимосвязи слов могут не сохранится если взять очень большой embeding size"
   ]
  },
  {
   "cell_type": "markdown",
   "metadata": {},
   "source": [
    "лучшее качество кросс-энтропии: $2.04704605341$\n",
    "\n",
    "Получившиеся подписи:\n",
    "- a small dog laying in a grassy field\n",
    "- a small cat is sitting on the green grass\n",
    "- a very cute small furry animal in the grass"
   ]
  },
  {
   "cell_type": "markdown",
   "metadata": {
    "collapsed": false,
    "deletable": true,
    "editable": true
   },
   "source": [
    "* Arseniy Ashuha, you can text me ```ars.ashuha@gmail.com```, Александр Панин\n",
    "\n",
    "<h1 align=\"center\"> Image Captioning </h1> \n",
    "\n",
    "In this seminar you'll be going through the image captioning pipeline. It can help u https://ars-ashuha.ru/slides/2016.11.11_ImageCaptioning/image_captionong.pdf \n",
    "\n",
    "To begin with, let us download the dataset of image features from a pre-trained GoogleNet."
   ]
  },
  {
   "cell_type": "code",
   "execution_count": 1,
   "metadata": {
    "collapsed": false,
    "deletable": true,
    "editable": true
   },
   "outputs": [],
   "source": [
    "# !wget https://www.dropbox.com/s/3hj16b0fj6yw7cc/data.tar.gz?dl=1 -O data.tar.gz\n",
    "# !tar -xvzf data.tar.gz"
   ]
  },
  {
   "cell_type": "markdown",
   "metadata": {
    "deletable": true,
    "editable": true
   },
   "source": [
    "### Data preprocessing"
   ]
  },
  {
   "cell_type": "code",
   "execution_count": 2,
   "metadata": {
    "collapsed": false,
    "deletable": true,
    "editable": true
   },
   "outputs": [
    {
     "name": "stdout",
     "output_type": "stream",
     "text": [
      "CPU times: user 2.68 s, sys: 600 ms, total: 3.28 s\n",
      "Wall time: 3.2 s\n"
     ]
    }
   ],
   "source": [
    "%%time\n",
    "# Read Dataset\n",
    "import numpy as np\n",
    "import pickle\n",
    "\n",
    "img_codes = np.load(\"data/image_codes.npy\")\n",
    "captions = pickle.load(open('data/caption_tokens.pcl', 'rb'))"
   ]
  },
  {
   "cell_type": "code",
   "execution_count": 3,
   "metadata": {
    "collapsed": false,
    "deletable": true,
    "editable": true
   },
   "outputs": [
    {
     "name": "stdout",
     "output_type": "stream",
     "text": [
      "each image code is a 1000-unit vector: (123287, 1000)\n",
      "[ 1.38901556 -3.82951474 -1.94360816 -0.5317238  -0.03120959 -2.87483215\n",
      " -2.9554503   0.6960277  -0.68551242 -0.7855981 ]\n",
      "\n",
      "\n",
      "\n",
      "for each image there are 5-7 descriptions, e.g.:\n",
      "\n",
      "a man with a red helmet on a small moped on a dirt road\n",
      "man riding a motor bike on a dirt road on the countryside\n",
      "a man riding on the back of a motorcycle\n",
      "a dirt path with a young person on a motor bike rests to the foreground of a verdant area with a bridge and a background of cloud wreathed mountains\n",
      "a man in a red shirt and a red hat is on a motorcycle on a hill side\n"
     ]
    }
   ],
   "source": [
    "print \"each image code is a 1000-unit vector:\", img_codes.shape\n",
    "print img_codes[0,:10]\n",
    "print '\\n\\n'\n",
    "print \"for each image there are 5-7 descriptions, e.g.:\\n\"\n",
    "print '\\n'.join(captions[0])"
   ]
  },
  {
   "cell_type": "code",
   "execution_count": 4,
   "metadata": {
    "collapsed": false,
    "deletable": true,
    "editable": true
   },
   "outputs": [],
   "source": [
    "#split descriptions into tokens\n",
    "for img_i in range(len(captions)):\n",
    "    for caption_i in range(len(captions[img_i])):\n",
    "        sentence = captions[img_i][caption_i] \n",
    "        captions[img_i][caption_i] = [\"#START#\"]+sentence.split(' ')+[\"#END#\"]"
   ]
  },
  {
   "cell_type": "code",
   "execution_count": 5,
   "metadata": {
    "collapsed": true,
    "deletable": true,
    "editable": true
   },
   "outputs": [],
   "source": [
    "from collections import defaultdict"
   ]
  },
  {
   "cell_type": "code",
   "execution_count": 6,
   "metadata": {
    "collapsed": true,
    "deletable": true,
    "editable": true
   },
   "outputs": [],
   "source": [
    "# Build a Vocabulary\n",
    "\n",
    "word_counts = defaultdict(int)\n",
    "for img_i in range(len(captions)):\n",
    "    for caption_i in range(len(captions[img_i])):\n",
    "        for word in captions[img_i][caption_i]:\n",
    "            word_counts[word] += 1"
   ]
  },
  {
   "cell_type": "code",
   "execution_count": 7,
   "metadata": {
    "collapsed": false,
    "deletable": true,
    "editable": true
   },
   "outputs": [
    {
     "data": {
      "text/plain": [
       "616767"
      ]
     },
     "execution_count": 7,
     "metadata": {},
     "output_type": "execute_result"
    }
   ],
   "source": [
    "word_counts['#END#']"
   ]
  },
  {
   "cell_type": "code",
   "execution_count": 8,
   "metadata": {
    "collapsed": false,
    "deletable": true,
    "editable": true
   },
   "outputs": [],
   "source": [
    "vocab  = ['#UNK#', '#START#', '#END#']\n",
    "vocab += [k for k, v in word_counts.items() if v >= 5]\n",
    "n_tokens = len(vocab)\n",
    "\n",
    "assert 10000 <= n_tokens <= 10500\n",
    "\n",
    "word_to_index = {w: i for i, w in enumerate(vocab)}"
   ]
  },
  {
   "cell_type": "code",
   "execution_count": 9,
   "metadata": {
    "collapsed": false,
    "deletable": true,
    "editable": true
   },
   "outputs": [
    {
     "data": {
      "text/plain": [
       "10373"
      ]
     },
     "execution_count": 9,
     "metadata": {},
     "output_type": "execute_result"
    }
   ],
   "source": [
    "n_tokens"
   ]
  },
  {
   "cell_type": "code",
   "execution_count": 10,
   "metadata": {
    "collapsed": false,
    "deletable": true,
    "editable": true
   },
   "outputs": [
    {
     "data": {
      "text/plain": [
       "8134"
      ]
     },
     "execution_count": 10,
     "metadata": {},
     "output_type": "execute_result"
    }
   ],
   "source": [
    "word_to_index['#END#']"
   ]
  },
  {
   "cell_type": "code",
   "execution_count": 11,
   "metadata": {
    "collapsed": true,
    "deletable": true,
    "editable": true
   },
   "outputs": [],
   "source": [
    "PAD_ix = -1\n",
    "UNK_ix = vocab.index('#UNK#')\n",
    "\n",
    "def as_matrix(sequences,max_len=None):\n",
    "    max_len = max_len or max(map(len,sequences))\n",
    "    \n",
    "    matrix = np.zeros((len(sequences),max_len),dtype='int32')+PAD_ix\n",
    "    for i,seq in enumerate(sequences):\n",
    "        row_ix = [word_to_index.get(word,UNK_ix) for word in seq[:max_len]]\n",
    "        matrix[i,:len(row_ix)] = row_ix\n",
    "    \n",
    "    return matrix"
   ]
  },
  {
   "cell_type": "code",
   "execution_count": 12,
   "metadata": {
    "collapsed": false,
    "deletable": true,
    "editable": true
   },
   "outputs": [
    {
     "data": {
      "text/plain": [
       "array([[ 8481,  2852,  7829,  4136, 10058,  9934,  5915,  4859,  6766,\n",
       "         1243,  3980,  6254,  8134,    -1,    -1],\n",
       "       [ 8481,  6766,  1243,  8902,  1021,  9095,  6254,  3980,  8256,\n",
       "          727,  5915,  8134,    -1,    -1,    -1],\n",
       "       [ 8481,  8717,  4136, 10058,  9934,  5915,  4859,  6766,  5627,\n",
       "         8639,   535,  5470,  7115,  5155,  8134],\n",
       "       [ 8481,  8717,  8897,  3069,  2538,   781,  8717,  8897,  1558,\n",
       "         8134,    -1,    -1,    -1,    -1,    -1],\n",
       "       [ 8481,  2852,  7829,  4136, 10058,  9934,  5915,  4859,  6766,\n",
       "         1243,   535,  5470,  8919,  8134,    -1]], dtype=int32)"
      ]
     },
     "execution_count": 12,
     "metadata": {},
     "output_type": "execute_result"
    }
   ],
   "source": [
    "#try it out on several descriptions of a random image\n",
    "as_matrix(captions[1337])"
   ]
  },
  {
   "cell_type": "markdown",
   "metadata": {
    "deletable": true,
    "editable": true
   },
   "source": [
    "### Mah Neural Network"
   ]
  },
  {
   "cell_type": "code",
   "execution_count": 13,
   "metadata": {
    "collapsed": false,
    "deletable": true,
    "editable": true
   },
   "outputs": [],
   "source": [
    "# network shapes. \n",
    "CNN_FEATURE_SIZE = img_codes.shape[1]\n",
    "EMBED_SIZE = 1024 #pls change me if u want\n",
    "LSTM_UNITS = 1024 #pls change me if u want"
   ]
  },
  {
   "cell_type": "code",
   "execution_count": 14,
   "metadata": {
    "collapsed": false,
    "deletable": true,
    "editable": true
   },
   "outputs": [
    {
     "name": "stderr",
     "output_type": "stream",
     "text": [
      "/home/igor/anaconda2/lib/python2.7/site-packages/theano/gpuarray/dnn.py:135: UserWarning: Your cuDNN version is more recent than Theano. If you encounter problems, try updating Theano or downgrading cuDNN to version 5.1.\n",
      "  warnings.warn(\"Your cuDNN version is more recent than \"\n",
      "Using cuDNN version 6020 on context None\n",
      "Mapped name None to device cuda: Tesla K80 (0000:00:04.0)\n"
     ]
    }
   ],
   "source": [
    "import theano\n",
    "import lasagne\n",
    "import theano.tensor as T\n",
    "from lasagne.layers import *"
   ]
  },
  {
   "cell_type": "code",
   "execution_count": 15,
   "metadata": {
    "collapsed": false,
    "deletable": true,
    "editable": true
   },
   "outputs": [],
   "source": [
    "# Input Variable\n",
    "sentences = T.imatrix()# [batch_size x time] of word ids\n",
    "image_vectors = T.matrix() # [batch size x unit] of CNN image features\n",
    "sentence_mask = T.neq(sentences, PAD_ix)"
   ]
  },
  {
   "cell_type": "code",
   "execution_count": 16,
   "metadata": {
    "collapsed": false,
    "deletable": true,
    "editable": true
   },
   "outputs": [],
   "source": [
    "#network inputs\n",
    "l_words = InputLayer((None, None), sentences)\n",
    "l_mask = InputLayer((None, None), sentence_mask)\n",
    "\n",
    "#embeddings for words \n",
    "l_word_embeddings = EmbeddingLayer(l_words, len(vocab), EMBED_SIZE)"
   ]
  },
  {
   "cell_type": "code",
   "execution_count": 17,
   "metadata": {
    "collapsed": false,
    "deletable": true,
    "editable": true
   },
   "outputs": [],
   "source": [
    "# input layer for image features\n",
    "l_image_features = InputLayer((None, CNN_FEATURE_SIZE), image_vectors)\n",
    "\n",
    "#convert 1000 image features from googlenet to whatever LSTM_UNITS you have set\n",
    "#it's also a good idea to add some dropout here and there\n",
    "# l_image_features_small = <Apply Dropout Layer to regularise your Net>\n",
    "l_image_features_small = DropoutLayer(l_image_features, p=0.5)\n",
    "# l_image_features_small = <Apply Dense to acive LSTM_UNITS size of representation>\n",
    "l_image_features_small = DenseLayer(l_image_features_small, LSTM_UNITS)\n",
    "assert l_image_features_small.output_shape == (None, LSTM_UNITS)"
   ]
  },
  {
   "cell_type": "code",
   "execution_count": 18,
   "metadata": {
    "collapsed": true,
    "deletable": true,
    "editable": true
   },
   "outputs": [],
   "source": [
    "grad_clip = 300"
   ]
  },
  {
   "cell_type": "code",
   "execution_count": 19,
   "metadata": {
    "collapsed": false,
    "deletable": true,
    "editable": true
   },
   "outputs": [],
   "source": [
    "############# TO CODE IT BY YOURSELF ##################\n",
    "# Concatinate image features and word embedings in one sequence \n",
    "decoder = LSTMLayer(l_word_embeddings,\n",
    "                    num_units=LSTM_UNITS,\n",
    "                    cell_init=l_image_features_small,\n",
    "                    mask_input=l_mask,\n",
    "                    grad_clipping=grad_clip)"
   ]
  },
  {
   "cell_type": "code",
   "execution_count": 20,
   "metadata": {
    "collapsed": false,
    "deletable": true,
    "editable": true
   },
   "outputs": [],
   "source": [
    "# !pip install --upgrade https://github.com/yandexdataschool/AgentNet/archive/master.zip"
   ]
  },
  {
   "cell_type": "code",
   "execution_count": 21,
   "metadata": {
    "collapsed": false,
    "deletable": true,
    "editable": true
   },
   "outputs": [
    {
     "name": "stdout",
     "output_type": "stream",
     "text": [
      "broadcasted decoder shape =  (None, 1024)\n",
      "output shape =  (None, None, 10373)\n"
     ]
    }
   ],
   "source": [
    "# Decoding of rnn hiden states\n",
    "# http://agentnet.readthedocs.io/en/master/user/install.html\n",
    "# !./install_agentnet.sh\n",
    "from broadcast import BroadcastLayer,UnbroadcastLayer\n",
    "\n",
    "#apply whatever comes next to each tick of each example in a batch. Equivalent to 2 reshapes\n",
    "broadcast_decoder_ticks = BroadcastLayer(decoder, (0, 1))\n",
    "print \"broadcasted decoder shape = \",broadcast_decoder_ticks.output_shape\n",
    "\n",
    "predicted_probabilities_each_tick = DenseLayer(\n",
    "    broadcast_decoder_ticks,n_tokens, nonlinearity=lasagne.nonlinearities.softmax)\n",
    "\n",
    "#un-broadcast back into (batch,tick,probabilities)\n",
    "predicted_probabilities = UnbroadcastLayer(\n",
    "    predicted_probabilities_each_tick, broadcast_layer=broadcast_decoder_ticks)\n",
    "\n",
    "print \"output shape = \", predicted_probabilities.output_shape\n",
    "\n",
    "#remove if you know what you're doing (e.g. 1d convolutions or fixed shape)\n",
    "assert predicted_probabilities.output_shape == (None, None, 10373)"
   ]
  },
  {
   "cell_type": "code",
   "execution_count": 22,
   "metadata": {
    "collapsed": false,
    "deletable": true,
    "editable": true
   },
   "outputs": [],
   "source": [
    "next_word_probas = get_output(predicted_probabilities)\n",
    "\n",
    "reference_answers = sentences[:,1:]\n",
    "output_mask = sentence_mask[:,1:]\n",
    "\n",
    "#write symbolic loss function to train NN for\n",
    "loss = lasagne.objectives.categorical_crossentropy(\n",
    "    next_word_probas[:, :-1].reshape((-1, n_tokens)),\n",
    "    reference_answers.reshape((-1,))\n",
    ").reshape(reference_answers.shape)\n",
    "\n",
    "############# TO CODE IT BY YOURSELF ##################\n",
    "# loss = <mean over non-PAD tokens>\n",
    "# loss = loss[output_mask].mean()\n",
    "loss = (loss * output_mask).sum() / output_mask.sum()"
   ]
  },
  {
   "cell_type": "code",
   "execution_count": 23,
   "metadata": {
    "collapsed": false,
    "deletable": true,
    "editable": true
   },
   "outputs": [],
   "source": [
    "sh_lr = theano.shared(lasagne.utils.floatX(0.1))"
   ]
  },
  {
   "cell_type": "code",
   "execution_count": 24,
   "metadata": {
    "collapsed": false,
    "deletable": true,
    "editable": true
   },
   "outputs": [],
   "source": [
    "#trainable NN weights\n",
    "weights = lasagne.layers.get_all_params(predicted_probabilities, trainable=True)\n",
    "updates = lasagne.updates.momentum(loss,\n",
    "                                   weights,\n",
    "                                   learning_rate=sh_lr,\n",
    "                                   momentum=0.9)"
   ]
  },
  {
   "cell_type": "code",
   "execution_count": 25,
   "metadata": {
    "collapsed": false,
    "deletable": true,
    "editable": true
   },
   "outputs": [
    {
     "name": "stdout",
     "output_type": "stream",
     "text": [
      "[W, W, b, W_in_to_ingate, W_hid_to_ingate, b_ingate, W_in_to_forgetgate, W_hid_to_forgetgate, b_forgetgate, W_in_to_cell, W_hid_to_cell, b_cell, W_in_to_outgate, W_hid_to_outgate, b_outgate, W_cell_to_ingate, W_cell_to_forgetgate, W_cell_to_outgate, W, b]\n"
     ]
    }
   ],
   "source": [
    "print(weights)"
   ]
  },
  {
   "cell_type": "code",
   "execution_count": 26,
   "metadata": {
    "collapsed": false,
    "deletable": true,
    "editable": true
   },
   "outputs": [
    {
     "name": "stderr",
     "output_type": "stream",
     "text": [
      "/home/igor/anaconda2/lib/python2.7/site-packages/theano/tensor/basic.py:5130: UserWarning: flatten outdim parameter is deprecated, use ndim instead.\n",
      "  \"flatten outdim parameter is deprecated, use ndim instead.\")\n"
     ]
    },
    {
     "name": "stdout",
     "output_type": "stream",
     "text": [
      "CPU times: user 8.35 s, sys: 232 ms, total: 8.58 s\n",
      "Wall time: 8.91 s\n"
     ]
    }
   ],
   "source": [
    "%%time\n",
    "# compile a function that takes input sentence and image mask, outputs loss and updates weights\n",
    "# please note that your functions must accept image features as FIRST param and sentences as second one\n",
    "\n",
    "train_step = theano.function([image_vectors, sentences],\n",
    "                             loss,\n",
    "                             updates=updates,\n",
    "                             allow_input_downcast=True)"
   ]
  },
  {
   "cell_type": "code",
   "execution_count": 27,
   "metadata": {
    "collapsed": false,
    "deletable": true,
    "editable": true
   },
   "outputs": [
    {
     "name": "stdout",
     "output_type": "stream",
     "text": [
      "CPU times: user 1.12 s, sys: 32 ms, total: 1.15 s\n",
      "Wall time: 1.12 s\n"
     ]
    }
   ],
   "source": [
    "%%time\n",
    "val_step = theano.function([image_vectors, sentences],\n",
    "                             loss,\n",
    "                             allow_input_downcast=True)"
   ]
  },
  {
   "cell_type": "markdown",
   "metadata": {
    "collapsed": false,
    "deletable": true,
    "editable": true
   },
   "source": [
    "# Training\n",
    "\n",
    "* You first have to implement a batch generator\n",
    "* Than the network will get trained the usual way"
   ]
  },
  {
   "cell_type": "code",
   "execution_count": 28,
   "metadata": {
    "collapsed": true,
    "deletable": true,
    "editable": true
   },
   "outputs": [],
   "source": [
    "captions = np.array(captions)"
   ]
  },
  {
   "cell_type": "code",
   "execution_count": 29,
   "metadata": {
    "collapsed": true,
    "deletable": true,
    "editable": true
   },
   "outputs": [],
   "source": [
    "from random import choice\n",
    "\n",
    "def generate_batch(images,captions,batch_size,max_caption_len=None):\n",
    "    #sample random numbers for image/caption indicies\n",
    "    random_image_ix = np.random.randint(0, len(images), size=batch_size)\n",
    "    \n",
    "    #get images\n",
    "    batch_images = images[random_image_ix]\n",
    "    \n",
    "    #5-7 captions for each image\n",
    "    captions_for_batch_images = captions[random_image_ix]\n",
    "    \n",
    "    #pick 1 from 5-7 captions for each image\n",
    "    batch_captions = map(choice, captions_for_batch_images)\n",
    "    \n",
    "    #convert to matrix\n",
    "    batch_captions_ix = as_matrix(batch_captions,max_len=max_caption_len)\n",
    "    \n",
    "    return batch_images, batch_captions_ix"
   ]
  },
  {
   "cell_type": "code",
   "execution_count": 30,
   "metadata": {
    "collapsed": false,
    "deletable": true,
    "editable": true
   },
   "outputs": [
    {
     "data": {
      "text/plain": [
       "(array([[ 1.12288892,  0.38240808,  4.73529577, ..., -1.1541096 ,\n",
       "          2.60740471, -0.77975619],\n",
       "        [-1.93355632, -0.43573451, -0.45779261, ..., -0.15569481,\n",
       "         -1.22766078, -1.56038845]], dtype=float32),\n",
       " array([[8481, 8717, 8946, 4859, 2665, 3069,  781, 7130, 4859, 8717, 5822,\n",
       "         8134],\n",
       "        [8481, 8717, 2978, 3935, 3980, 8717, 5287, 2748,  781, 8717, 4556,\n",
       "         8134]], dtype=int32))"
      ]
     },
     "execution_count": 30,
     "metadata": {},
     "output_type": "execute_result"
    }
   ],
   "source": [
    "generate_batch(img_codes, captions, 2)"
   ]
  },
  {
   "cell_type": "markdown",
   "metadata": {
    "deletable": true,
    "editable": true
   },
   "source": [
    "### Main loop\n",
    "* We recommend you to periodically evaluate the network using the next \"apply trained model\" block\n",
    " *  its safe to interrupt training, run a few examples and start training again"
   ]
  },
  {
   "cell_type": "code",
   "execution_count": 31,
   "metadata": {
    "collapsed": true,
    "deletable": true,
    "editable": true
   },
   "outputs": [],
   "source": [
    "batch_size = 100 #adjust me\n",
    "n_epochs   = 1000 #adjust me\n",
    "n_batches_per_epoch = 100 #adjust me\n",
    "n_validation_batches = 10 #how many batches are used for validation after each epoch"
   ]
  },
  {
   "cell_type": "code",
   "execution_count": 32,
   "metadata": {
    "collapsed": false,
    "deletable": true,
    "editable": true
   },
   "outputs": [],
   "source": [
    "# !pip install tqdm"
   ]
  },
  {
   "cell_type": "code",
   "execution_count": 33,
   "metadata": {
    "collapsed": true,
    "deletable": true,
    "editable": true
   },
   "outputs": [],
   "source": [
    "from IPython import display\n",
    "from tqdm import tqdm\n",
    "import matplotlib.pyplot as plt\n",
    "%matplotlib inline"
   ]
  },
  {
   "cell_type": "code",
   "execution_count": 34,
   "metadata": {
    "collapsed": true,
    "deletable": true,
    "editable": true
   },
   "outputs": [],
   "source": [
    "sh_lr = theano.shared(lasagne.utils.floatX(0.1))\n",
    "train_loss_history = []\n",
    "test_loss_history = []"
   ]
  },
  {
   "cell_type": "code",
   "execution_count": 35,
   "metadata": {
    "collapsed": false,
    "deletable": true,
    "editable": true,
    "scrolled": false
   },
   "outputs": [
    {
     "data": {
      "image/png": "[encoded data removed]",
      "text/plain": [
       "<matplotlib.figure.Figure at 0x7f397c2bb210>"
      ]
     },
     "metadata": {},
     "output_type": "display_data"
    },
    {
     "name": "stderr",
     "output_type": "stream",
     "text": [
      "\r",
      "  0%|          | 0/100 [00:00<?, ?it/s]"
     ]
    },
    {
     "name": "stdout",
     "output_type": "stream",
     "text": [
      "\n",
      "Epoch: 290, train loss: 2.44604798794, val loss: 2.38203113079\n",
      "('LR: ', array(0.000391353911254555, dtype=float32))\n"
     ]
    },
    {
     "name": "stderr",
     "output_type": "stream",
     "text": [
      " 24%|██▍       | 24/100 [00:07<00:24,  3.11it/s]\n"
     ]
    },
    {
     "ename": "KeyboardInterrupt",
     "evalue": "",
     "output_type": "error",
     "traceback": [
      "\u001b[0;31m---------------------------------------------------------------------------\u001b[0m",
      "\u001b[0;31mKeyboardInterrupt\u001b[0m                         Traceback (most recent call last)",
      "\u001b[0;32m<ipython-input-35-6b9a001f0fb7>\u001b[0m in \u001b[0;36m<module>\u001b[0;34m()\u001b[0m\n\u001b[1;32m      2\u001b[0m     \u001b[0mtrain_loss\u001b[0m\u001b[0;34m=\u001b[0m\u001b[0;36m0\u001b[0m\u001b[0;34m\u001b[0m\u001b[0m\n\u001b[1;32m      3\u001b[0m     \u001b[0;32mfor\u001b[0m \u001b[0m_\u001b[0m \u001b[0;32min\u001b[0m \u001b[0mtqdm\u001b[0m\u001b[0;34m(\u001b[0m\u001b[0mrange\u001b[0m\u001b[0;34m(\u001b[0m\u001b[0mn_batches_per_epoch\u001b[0m\u001b[0;34m)\u001b[0m\u001b[0;34m)\u001b[0m\u001b[0;34m:\u001b[0m\u001b[0;34m\u001b[0m\u001b[0m\n\u001b[0;32m----> 4\u001b[0;31m         \u001b[0mtrain_loss\u001b[0m \u001b[0;34m+=\u001b[0m \u001b[0mtrain_step\u001b[0m\u001b[0;34m(\u001b[0m\u001b[0;34m*\u001b[0m\u001b[0mgenerate_batch\u001b[0m\u001b[0;34m(\u001b[0m\u001b[0mimg_codes\u001b[0m\u001b[0;34m,\u001b[0m \u001b[0mcaptions\u001b[0m\u001b[0;34m,\u001b[0m \u001b[0mbatch_size\u001b[0m\u001b[0;34m)\u001b[0m\u001b[0;34m)\u001b[0m\u001b[0;34m\u001b[0m\u001b[0m\n\u001b[0m\u001b[1;32m      5\u001b[0m     \u001b[0mtrain_loss\u001b[0m \u001b[0;34m/=\u001b[0m \u001b[0mn_batches_per_epoch\u001b[0m\u001b[0;34m\u001b[0m\u001b[0m\n\u001b[1;32m      6\u001b[0m \u001b[0;34m\u001b[0m\u001b[0m\n",
      "\u001b[0;32m/home/igor/anaconda2/lib/python2.7/site-packages/theano/compile/function_module.pyc\u001b[0m in \u001b[0;36m__call__\u001b[0;34m(self, *args, **kwargs)\u001b[0m\n\u001b[1;32m    882\u001b[0m         \u001b[0;32mtry\u001b[0m\u001b[0;34m:\u001b[0m\u001b[0;34m\u001b[0m\u001b[0m\n\u001b[1;32m    883\u001b[0m             \u001b[0moutputs\u001b[0m \u001b[0;34m=\u001b[0m\u001b[0;31m\\\u001b[0m\u001b[0;34m\u001b[0m\u001b[0m\n\u001b[0;32m--> 884\u001b[0;31m                 \u001b[0mself\u001b[0m\u001b[0;34m.\u001b[0m\u001b[0mfn\u001b[0m\u001b[0;34m(\u001b[0m\u001b[0;34m)\u001b[0m \u001b[0;32mif\u001b[0m \u001b[0moutput_subset\u001b[0m \u001b[0;32mis\u001b[0m \u001b[0mNone\u001b[0m \u001b[0;32melse\u001b[0m\u001b[0;31m\\\u001b[0m\u001b[0;34m\u001b[0m\u001b[0m\n\u001b[0m\u001b[1;32m    885\u001b[0m                 \u001b[0mself\u001b[0m\u001b[0;34m.\u001b[0m\u001b[0mfn\u001b[0m\u001b[0;34m(\u001b[0m\u001b[0moutput_subset\u001b[0m\u001b[0;34m=\u001b[0m\u001b[0moutput_subset\u001b[0m\u001b[0;34m)\u001b[0m\u001b[0;34m\u001b[0m\u001b[0m\n\u001b[1;32m    886\u001b[0m         \u001b[0;32mexcept\u001b[0m \u001b[0mException\u001b[0m\u001b[0;34m:\u001b[0m\u001b[0;34m\u001b[0m\u001b[0m\n",
      "\u001b[0;31mKeyboardInterrupt\u001b[0m: "
     ]
    }
   ],
   "source": [
    "for epoch in range(n_epochs):\n",
    "    train_loss=0\n",
    "    for _ in tqdm(range(n_batches_per_epoch)):\n",
    "        train_loss += train_step(*generate_batch(img_codes, captions, batch_size))\n",
    "    train_loss /= n_batches_per_epoch\n",
    "    \n",
    "    val_loss=0\n",
    "    for _ in range(n_validation_batches):\n",
    "        val_loss += val_step(*generate_batch(img_codes,captions,batch_size))\n",
    "    val_loss /= n_validation_batches\n",
    "    \n",
    "    display.clear_output(wait=True)\n",
    "    plt.figure(figsize=(8, 6))\n",
    "    \n",
    "    train_loss_history.append(train_loss)\n",
    "    test_loss_history.append(val_loss)\n",
    "    plt.title(\"Loss\")\n",
    "    plt.xlabel(\"#iteration\")\n",
    "    plt.ylabel(\"loss\")\n",
    "    plt.plot(train_loss_history, 'b', label='train_loss')\n",
    "    plt.plot(test_loss_history, 'r', label='test_loss')\n",
    "    plt.legend(loc='best')\n",
    "    plt.show()\n",
    "    \n",
    "    print('\\nEpoch: {}, train loss: {}, val loss: {}'.format(epoch, train_loss, val_loss))\n",
    "    print('LR: ', sh_lr.get_value())\n",
    "    \n",
    "    try:\n",
    "        if (epoch + 1) % 50 == 0 or (train_loss_history[-1] - train_loss_history[-2]) > 0.2:\n",
    "            if sh_lr.get_value < 0.0001:\n",
    "                if (epoch + 1) % 100 == 0:\n",
    "                    new_lr = theano.shared(lasagne.utils.floatX(sh_lr.get_value() * 0.66))\n",
    "            else:\n",
    "                new_lr = theano.shared(lasagne.utils.floatX(sh_lr.get_value() * 0.33))\n",
    "            print('\\n Decressing LR: {} -> {}'.format(sh_lr.get_value(), new_lr.get_value()))\n",
    "            if new_lr.get_value() > 10**(-6):\n",
    "                sh_lr = new_lr\n",
    "    except Exception as e:\n",
    "        print(\"err at changing lr: {}\".format(e))\n",
    "    \n",
    "print(\"Finish :)\")"
   ]
  },
  {
   "cell_type": "raw",
   "metadata": {
    "deletable": true,
    "editable": true
   },
   "source": [
    "Уже неплохо:\n",
    "a cat is laying down on the grass\n",
    "a close up of a cat laying on a bed\n",
    "a close up of a cat on a plate\n",
    "a white and black cat is sitting on a green chair\n",
    "a white and brown cat sitting on a table eating a piece of pizza\n",
    "a close up of a cat with a stuffed animal\n",
    "a small kitten is laying on a lap top\n",
    "a small kitten is standing in the grass\n",
    "a white fluffy cat eating food from a bowl\n",
    "a close up of a cat eating food\n"
   ]
  },
  {
   "cell_type": "code",
   "execution_count": 44,
   "metadata": {
    "collapsed": true,
    "deletable": true,
    "editable": true
   },
   "outputs": [],
   "source": [
    "# добавим LR\n",
    "sh_lr = theano.shared(0.002)\n",
    "n_epochs = 500"
   ]
  },
  {
   "cell_type": "code",
   "execution_count": 47,
   "metadata": {
    "collapsed": false,
    "deletable": true,
    "editable": true
   },
   "outputs": [
    {
     "data": {
      "image/png": "[encoded data removed]",
      "text/plain": [
       "<matplotlib.figure.Figure at 0x7f3955ae3710>"
      ]
     },
     "metadata": {},
     "output_type": "display_data"
    },
    {
     "name": "stdout",
     "output_type": "stream",
     "text": [
      "\n",
      "Epoch: 499, train loss: 2.1767558229, val loss: 2.14894298315\n",
      "('LR: ', array(0.00021779999951831996, dtype=float32))\n",
      "\n",
      " Decressing LR: 0.000217799999518 -> 7.18739975127e-05\n",
      "Finish :)\n"
     ]
    }
   ],
   "source": [
    "for epoch in range(n_epochs):\n",
    "    train_loss=0\n",
    "    for _ in tqdm(range(n_batches_per_epoch)):\n",
    "        train_loss += train_step(*generate_batch(img_codes, captions, batch_size))\n",
    "    train_loss /= n_batches_per_epoch\n",
    "    \n",
    "    val_loss=0\n",
    "    for _ in range(n_validation_batches):\n",
    "        val_loss += val_step(*generate_batch(img_codes,captions,batch_size))\n",
    "    val_loss /= n_validation_batches\n",
    "    \n",
    "    display.clear_output(wait=True)\n",
    "    plt.figure(figsize=(8, 6))\n",
    "    \n",
    "    train_loss_history.append(train_loss)\n",
    "    test_loss_history.append(val_loss)\n",
    "    plt.title(\"Loss\")\n",
    "    plt.xlabel(\"#iteration\")\n",
    "    plt.ylabel(\"loss\")\n",
    "    plt.plot(train_loss_history, 'b', label='train_loss')\n",
    "    plt.plot(test_loss_history, 'r', label='test_loss')\n",
    "    plt.legend(loc='best')\n",
    "    plt.show()\n",
    "    \n",
    "    print('\\nEpoch: {}, train loss: {}, val loss: {}'.format(epoch, train_loss, val_loss))\n",
    "    print('LR: ', sh_lr.get_value())\n",
    "    \n",
    "    try:\n",
    "        if (epoch + 1) % 100 == 0 or (train_loss_history[-1] - train_loss_history[-2]) > 0.1:\n",
    "            new_lr = theano.shared(lasagne.utils.floatX(sh_lr.get_value() * 0.33))\n",
    "            print('\\n Decressing LR: {} -> {}'.format(sh_lr.get_value(), new_lr.get_value()))\n",
    "            if new_lr.get_value() > 10**(-4):\n",
    "                sh_lr = new_lr\n",
    "    except Exception as e:\n",
    "        print(\"err at changing lr: {}\".format(e))\n",
    "    \n",
    "print(\"Finish :)\")"
   ]
  },
  {
   "cell_type": "code",
   "execution_count": 48,
   "metadata": {
    "collapsed": false,
    "deletable": true,
    "editable": true
   },
   "outputs": [
    {
     "data": {
      "image/png": "[encoded data removed]",
      "text/plain": [
       "<matplotlib.figure.Figure at 0x7f3955ff39d0>"
      ]
     },
     "metadata": {},
     "output_type": "display_data"
    },
    {
     "name": "stdout",
     "output_type": "stream",
     "text": [
      "\n",
      "Epoch: 299, train loss: 2.08686791539, val loss: 2.04704605341\n",
      "('LR: ', array(0.00021779999951831996, dtype=float32))\n",
      "\n",
      " Decressing LR: 0.000217799999518 -> 7.18739975127e-05\n",
      "Finish :)\n"
     ]
    }
   ],
   "source": [
    "for epoch in range(300):\n",
    "    train_loss=0\n",
    "    for _ in tqdm(range(n_batches_per_epoch)):\n",
    "        train_loss += train_step(*generate_batch(img_codes, captions, batch_size))\n",
    "    train_loss /= n_batches_per_epoch\n",
    "    \n",
    "    val_loss=0\n",
    "    for _ in range(n_validation_batches):\n",
    "        val_loss += val_step(*generate_batch(img_codes,captions,batch_size))\n",
    "    val_loss /= n_validation_batches\n",
    "    \n",
    "    display.clear_output(wait=True)\n",
    "    plt.figure(figsize=(8, 6))\n",
    "    \n",
    "    train_loss_history.append(train_loss)\n",
    "    test_loss_history.append(val_loss)\n",
    "    plt.title(\"Loss\")\n",
    "    plt.xlabel(\"#iteration\")\n",
    "    plt.ylabel(\"loss\")\n",
    "    plt.plot(train_loss_history, 'b', label='train_loss')\n",
    "    plt.plot(test_loss_history, 'r', label='test_loss')\n",
    "    plt.legend(loc='best')\n",
    "    plt.show()\n",
    "    \n",
    "    print('\\nEpoch: {}, train loss: {}, val loss: {}'.format(epoch, train_loss, val_loss))\n",
    "    print('LR: ', sh_lr.get_value())\n",
    "    \n",
    "    try:\n",
    "        if (epoch + 1) % 100 == 0 or (train_loss_history[-1] - train_loss_history[-2]) > 0.1:\n",
    "            new_lr = theano.shared(lasagne.utils.floatX(sh_lr.get_value() * 0.33))\n",
    "            print('\\n Decressing LR: {} -> {}'.format(sh_lr.get_value(), new_lr.get_value()))\n",
    "            if new_lr.get_value() > 10**(-4):\n",
    "                sh_lr = new_lr\n",
    "    except Exception as e:\n",
    "        print(\"err at changing lr: {}\".format(e))\n",
    "    \n",
    "print(\"Finish :)\")"
   ]
  },
  {
   "cell_type": "markdown",
   "metadata": {
    "collapsed": false,
    "deletable": true,
    "editable": true
   },
   "source": [
    "### apply trained model"
   ]
  },
  {
   "cell_type": "code",
   "execution_count": 49,
   "metadata": {
    "collapsed": false,
    "deletable": true,
    "editable": true
   },
   "outputs": [],
   "source": [
    "#the same kind you did last week, but a bit smaller\n",
    "# pip install scikit-image\n",
    "from pretrained_lenet import build_model,preprocess,MEAN_VALUES\n",
    "\n",
    "# build googlenet\n",
    "lenet = build_model()\n",
    "\n",
    "#load weights\n",
    "lenet_weights = pickle.load(open('data/blvc_googlenet.pkl'))['param values']\n",
    "set_all_param_values(lenet[\"prob\"], lenet_weights)\n",
    "\n",
    "#compile get_features\n",
    "cnn_input_var = lenet['input'].input_var\n",
    "cnn_feature_layer = lenet['loss3/classifier']\n",
    "get_cnn_features = theano.function([cnn_input_var], lasagne.layers.get_output(cnn_feature_layer))"
   ]
  },
  {
   "cell_type": "code",
   "execution_count": 50,
   "metadata": {
    "collapsed": false,
    "deletable": true,
    "editable": true
   },
   "outputs": [],
   "source": [
    "from matplotlib import pyplot as plt\n",
    "%matplotlib inline\n",
    "\n",
    "#sample image\n",
    "img = plt.imread('data/Dog-and-Cat.jpg')\n",
    "img = preprocess(img)"
   ]
  },
  {
   "cell_type": "code",
   "execution_count": 51,
   "metadata": {
    "collapsed": false,
    "deletable": true,
    "editable": true
   },
   "outputs": [
    {
     "data": {
      "text/plain": [
       "<matplotlib.image.AxesImage at 0x7f3976e69310>"
      ]
     },
     "execution_count": 51,
     "metadata": {},
     "output_type": "execute_result"
    },
    {
     "data": {
      "image/png": "[encoded data removed]",
      "text/plain": [
       "<matplotlib.figure.Figure at 0x7f3977d35610>"
      ]
     },
     "metadata": {},
     "output_type": "display_data"
    }
   ],
   "source": [
    "#deprocess and show, one line :)\n",
    "from pretrained_lenet import MEAN_VALUES\n",
    "plt.imshow(np.transpose((img[0] + MEAN_VALUES)[::-1],[1,2,0]).astype('uint8'))"
   ]
  },
  {
   "cell_type": "markdown",
   "metadata": {
    "deletable": true,
    "editable": true
   },
   "source": [
    "## Generate caption"
   ]
  },
  {
   "cell_type": "code",
   "execution_count": 52,
   "metadata": {
    "collapsed": true,
    "deletable": true,
    "editable": true
   },
   "outputs": [],
   "source": [
    "last_word_probas_det = get_output(predicted_probabilities,deterministic=False)[:,-1]\n",
    "\n",
    "get_probs = theano.function([image_vectors,sentences], last_word_probas_det)\n",
    "\n",
    "#this is exactly the generation function from week5 classwork,\n",
    "#except now we condition on image features instead of words\n",
    "def generate_caption(image,caption_prefix = (\"START\",),t=2,sample=True,max_len=100):\n",
    "    image_features = get_cnn_features(image)\n",
    "    caption = list(caption_prefix)\n",
    "    for _ in range(max_len):\n",
    "        \n",
    "        next_word_probs = get_probs(image_features,as_matrix([caption]) ).ravel()\n",
    "        #apply temperature\n",
    "        next_word_probs = next_word_probs**t / np.sum(next_word_probs**t)\n",
    "\n",
    "        if sample:\n",
    "            next_word = np.random.choice(vocab,p=next_word_probs) \n",
    "        else:\n",
    "            next_word = vocab[np.argmax(next_word_probs)]\n",
    "\n",
    "        caption.append(next_word)\n",
    "\n",
    "        if next_word==\"#END#\":\n",
    "            break\n",
    "            \n",
    "    return caption"
   ]
  },
  {
   "cell_type": "code",
   "execution_count": 71,
   "metadata": {
    "collapsed": false,
    "deletable": true,
    "editable": true
   },
   "outputs": [
    {
     "name": "stdout",
     "output_type": "stream",
     "text": [
      "a small dog laying in a grassy field\n",
      "a small furry animal in a grassy field\n",
      "a small furry animal eating out of a green plant\n",
      "a small kitten is looking at a white bird\n",
      "a small furry animal in a flower pot\n",
      "a small cat is sitting on the green grass\n",
      "a white cat with a piece of broccoli in its mouth\n",
      "a white cat laying on the ground with a toy\n",
      "a small dog is laying down with a toy\n",
      "a small dog is laying down on the grass\n"
     ]
    }
   ],
   "source": [
    "for i in range(10):\n",
    "    print ' '.join(generate_caption(img,t=2., sample=False)[1:-1])"
   ]
  },
  {
   "cell_type": "code",
   "execution_count": 74,
   "metadata": {
    "collapsed": false,
    "deletable": true,
    "editable": true
   },
   "outputs": [
    {
     "name": "stdout",
     "output_type": "stream",
     "text": [
      "a small furry animal standing in the grass\n",
      "a little boy in a red jacket holding a white frisbee\n",
      "a cat laying down next to a teddy bear\n",
      "a little kitten is in a grassy area\n",
      "a white cat with a red and white fur and a cat in its mouth\n",
      "a cat is laying on a white blanket\n",
      "a very cute small furry animal in the grass\n",
      "a cat that is laying down on the ground\n",
      "a cat is eating a piece of broccoli\n",
      "two birds that are sitting on the ground\n",
      "a very cute furry animal eating something on the ground\n",
      "a small furry animal in a field with a plate\n",
      "a small cat is eating a dead bird\n",
      "a little cat that is laying on a car\n",
      "a white fluffy cat laying on the ground with a toy in its mouth\n",
      "a cat that is laying down on the grass\n",
      "a cat that is eating some food on the ground\n",
      "a little furry animal eating food out of a container\n",
      "a close up of a cat on a car\n",
      "a very cute small dog in a car\n",
      "a cat laying in a box with a piece of broccoli\n",
      "a cat sitting on a wooden floor with a basket on its back\n",
      "a couple of cats are standing on the grass\n",
      "a cat is laying in a car with a man\n",
      "two little kittens are standing in the grass\n",
      "a small furry furry animal in a car\n",
      "a small dog is looking up with a toy on the ground\n",
      "a cat sitting on the ground with a man in the background\n",
      "a cat that is sitting on a green piece of broccoli\n",
      "a small dog is in a grassy area with a toy\n",
      "a white and red cat is licking the apple\n",
      "a kitten eating food out of a bowl\n",
      "a fluffy white cat is sitting next to a stuffed animal\n",
      "a cat standing by a couple of broccoli\n",
      "a white fluffy cat on a grassy area eating an apple\n",
      "a white fluffy cat eating broccoli on the ground\n",
      "a woman holding a small kitten in her right hand\n",
      "two small birds are sitting in a green field\n",
      "a couple of cats are sitting on a green grass\n",
      "a small furry furry animal eating broccoli\n",
      "two small furry dogs sitting in a flower pot\n",
      "a cat that is eating a piece of broccoli\n",
      "an adorable white furry cat is sitting on a pink plate\n",
      "a white cat laying on the ground with a toy\n",
      "a cat sits in a field with a white #UNK#\n",
      "an image of a cat that is sitting on a car on a blanket\n",
      "a small dog is laying down with a toy on its back\n",
      "a little kitten is eating from a bowl\n",
      "a white cat standing on the grass with a blue water bottle\n",
      "a white bear is sitting in a yard\n"
     ]
    }
   ],
   "source": [
    "for i in range(50):\n",
    "    print ' '.join(generate_caption(img,t=2., sample=True)[1:-1])"
   ]
  },
  {
   "cell_type": "markdown",
   "metadata": {
    "deletable": true,
    "editable": true
   },
   "source": [
    "# Bonus Part\n",
    "- Use ResNet Instead of GoogLeNet\n",
    "- Use W2V as embedding\n",
    "- Use Attention :) "
   ]
  },
  {
   "cell_type": "code",
   "execution_count": null,
   "metadata": {
    "collapsed": true,
    "deletable": true,
    "editable": true
   },
   "outputs": [],
   "source": []
  },
  {
   "cell_type": "markdown",
   "metadata": {
    "deletable": true,
    "editable": true
   },
   "source": [
    "# Pass Assignment https://goo.gl/forms/2qqVtfepn0t1aDgh1 "
   ]
  }
 ],
 "metadata": {
  "kernelspec": {
   "display_name": "Python 2",
   "language": "python",
   "name": "python2"
  },
  "language_info": {
   "codemirror_mode": {
    "name": "ipython",
    "version": 2
   },
   "file_extension": ".py",
   "mimetype": "text/x-python",
   "name": "python",
   "nbconvert_exporter": "python",
   "pygments_lexer": "ipython2",
   "version": "2.7.13"
  }
 },
 "nbformat": 4,
 "nbformat_minor": 0
}
