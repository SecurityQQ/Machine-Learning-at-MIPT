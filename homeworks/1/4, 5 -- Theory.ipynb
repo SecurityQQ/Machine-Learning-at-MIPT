{
 "cells": [
  {
   "cell_type": "markdown",
   "metadata": {},
   "source": [
    "# Наивный байес и центроидный классификатор"
   ]
  },
  {
   "cell_type": "markdown",
   "metadata": {},
   "source": [
    "Наивный байесовый классификатор равен $a(X) = argmax_y P(y|X) = argmax_y P(X|y)P(y)$\n",
    "\n",
    "\n",
    "По условию, априорная вероятность $P(y) = const$, а $P(x^{(k)}| y)$ -- плотность распределения $N(\\mu_{y,k}, \\sigma^2)$, следовательно,\n",
    "$$a(X) = argmax_y  \\Pi_{i=1}^{n}P(x^{(i)}|y)$$\n",
    "Что влечет\n",
    "$$a(X) = argmin_y \\sum_{i=1}^{n} (x^{(i)} - \\mu_{y, k})^2$$\n",
    "Таким образом, $a(x)$ является минимизатором расстояния (в смысле $L_2$-нормы) от $X$ до $\\mu_{y} = (\\mu_{y, 1}, \\ldots, \\mu_{y, n})^{T}$, что и требовалось показать.\n"
   ]
  },
  {
   "cell_type": "markdown",
   "metadata": {},
   "source": [
    "# ROC-AUC случайных ответов"
   ]
  },
  {
   "cell_type": "markdown",
   "metadata": {},
   "source": [
    "ROC задается парами точек $$(\\eta_1, \\eta_2) = (\\frac{\\sum I(y_i = 0, a_{\\omega}(x_i) = 1)}{\\sum I(y_i=0)}; \\frac{\\sum I(y_i = 1, a_{\\omega}(x_i) = 1)}{\\sum I(y_i=1)}),$$ где $a_{\\omega}(x_i)$ = $I(\\xi - \\omega > 0)$, $\\xi$ ~ $Bin(1, p).$ Зафиксируем $y$ и найдем мат. ожидание $(\\eta_1, \\eta_2)$ для $\\omega \\in [-1; 1]$\n",
    "\n",
    "$$\\mathrm{E}(\\eta_1, \\eta_2) = \\mathrm{E}(\\frac{\\sum I(y_i = 0, a_{\\omega}(x_i) = 1)}{\\sum I(y_i=0)}; \\frac{\\sum I(y_i = 1, a_{\\omega}(x_i) = 1)}{\\sum I(y_i=1)}) = $$\n",
    "\n",
    "$$ = (\\frac{{\\sum_{i=1}^{m}P(a_{\\omega}(x_i} = 1)}{m}; \\frac{{\\sum_{i=1}^{n-m}P(a_{\\omega}(x_i} = 1)}{n-m}) = (p, p)$$ \n",
    "\n",
    "Предпоследнее равенство верно в силу независимости $a(x_i).$ Таким образом, все значения ROC будут на диагонали и $\\mathrm{E}[ROC-AUC] = 0.5$\n"
   ]
  },
  {
   "cell_type": "markdown",
   "metadata": {
    "collapsed": true
   },
   "source": [
    "# Ошибка 1NN и оптимального байесовского классификатора"
   ]
  },
  {
   "cell_type": "markdown",
   "metadata": {},
   "source": [
    "См. фото"
   ]
  },
  {
   "cell_type": "code",
   "execution_count": null,
   "metadata": {
    "collapsed": true
   },
   "outputs": [],
   "source": []
  }
 ],
 "metadata": {
  "anaconda-cloud": {},
  "kernelspec": {
   "display_name": "Python [Root]",
   "language": "python",
   "name": "Python [Root]"
  },
  "language_info": {
   "codemirror_mode": {
    "name": "ipython",
    "version": 2
   },
   "file_extension": ".py",
   "mimetype": "text/x-python",
   "name": "python",
   "nbconvert_exporter": "python",
   "pygments_lexer": "ipython2",
   "version": "2.7.12"
  }
 },
 "nbformat": 4,
 "nbformat_minor": 0
}
