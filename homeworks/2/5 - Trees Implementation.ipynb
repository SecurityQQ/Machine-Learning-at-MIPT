{
 "cells": [
  {
   "cell_type": "code",
   "execution_count": 118,
   "metadata": {
    "collapsed": true
   },
   "outputs": [],
   "source": [
    "import numpy as np\n",
    "import pandas as pd\n",
    "import matplotlib.pyplot as plt\n",
    "from sklearn.tree import DecisionTreeRegressor\n",
    "from sklearn.base import BaseEstimator\n",
    "from sklearn.metrics import mean_squared_error\n",
    "from scipy.optimize import minimize\n",
    "import sklearn.model_selection as ms\n",
    "%matplotlib inline"
   ]
  },
  {
   "cell_type": "code",
   "execution_count": 2,
   "metadata": {
    "collapsed": false
   },
   "outputs": [],
   "source": [
    "from sklearn.datasets import load_boston"
   ]
  },
  {
   "cell_type": "markdown",
   "metadata": {},
   "source": [
    "Реализация:"
   ]
  },
  {
   "cell_type": "code",
   "execution_count": 92,
   "metadata": {
    "collapsed": false
   },
   "outputs": [],
   "source": [
    "class Node():\n",
    "    def __init__(self, j, t):\n",
    "        self.j = j\n",
    "        self.t = t\n",
    "        self.left = None\n",
    "        self.right = None\n",
    "        self.Y = None\n",
    "\n",
    "class DecisionTree(BaseEstimator):\n",
    "    \n",
    "    def __init__(self, max_depth=1):\n",
    "        self.max_depth = max_depth\n",
    "        self.root = None\n",
    "        \n",
    "    def H(self, R_Y):\n",
    "        if (len(R_Y) == 0):\n",
    "            return 0\n",
    "        return mean_squared_error(R_Y, np.ones(R_Y.shape[0]) * R_Y.mean())\n",
    "    \n",
    "    def G(self, j, t, X, Y):\n",
    "        L = X[X[:, j] < t]\n",
    "        L_Y = Y[X[:, j] < t]\n",
    "        R = X[X[:, j] >= t]\n",
    "        R_Y = Y[X[:, j] >= t]\n",
    "        return (L.shape[0] / X.shape[0] * self.H(L_Y) + R.shape[0] / X.shape[0] * self.H(R_Y)), L, L_Y, R, R_Y \n",
    "\n",
    "    def fit(self, X, Y):    \n",
    "        def fit1(X, Y, depth):\n",
    "            if depth == self.max_depth:\n",
    "                return None\n",
    "\n",
    "            min_val = (1e15, 0, 0, 0, 0)\n",
    "            j_opt, t_opt = 0, 0\n",
    "            if len(X) == 0:\n",
    "                return None\n",
    "            for j in range(len(X[0])): # при желании можно заменить на метод scipy.optimize.minimize\n",
    "                for t in range(len(X[0])):\n",
    "                    res, l, l_y, r, r_y = self.G(j, t, X, Y)\n",
    "                    if (res < min_val[0]):\n",
    "                        min_val = res, l, l_y, r, r_y\n",
    "                        j_opt = j\n",
    "                        t_opt = t\n",
    "\n",
    "            node = Node(j_opt, t_opt)\n",
    "            _, L, L_Y, R, R_Y = min_val\n",
    "            node.left = fit1(L, L_Y, depth + 1)\n",
    "            node.right = fit1(R, R_Y, depth + 1)\n",
    "            if (depth + 1 == self.max_depth):\n",
    "                node.Y = Y\n",
    "            return node\n",
    "        self.root = fit1(X, Y, 0)\n",
    "            \n",
    "    def predict(self, x):\n",
    "        cur_node = self.root\n",
    "        while (cur_node != None):\n",
    "            if (cur_node.Y != None):\n",
    "                return cur_node.Y.mean()\n",
    "            j = cur_node.j\n",
    "            t = cur_node.t\n",
    "            if (x[j] < t):\n",
    "                cur_node = cur_node.left\n",
    "            else:\n",
    "                cur_node = cur_node.right"
   ]
  },
  {
   "cell_type": "code",
   "execution_count": 93,
   "metadata": {
    "collapsed": false
   },
   "outputs": [],
   "source": [
    "boston = load_boston()\n",
    "data = boston.data\n",
    "target = boston.target\n",
    "X_train, X_test, y_train, y_test = ms.train_test_split(data, target, test_size=0.25, random_state=42)"
   ]
  },
  {
   "cell_type": "code",
   "execution_count": 99,
   "metadata": {
    "collapsed": false
   },
   "outputs": [
    {
     "name": "stderr",
     "output_type": "stream",
     "text": [
      "/usr/local/lib/python2.7/site-packages/ipykernel/__main__.py:56: FutureWarning: comparison to `None` will result in an elementwise object comparison in the future.\n"
     ]
    },
    {
     "data": {
      "text/plain": [
       "55.877187338545824"
      ]
     },
     "execution_count": 99,
     "metadata": {},
     "output_type": "execute_result"
    }
   ],
   "source": [
    "estimator = DecisionTree(max_depth=3)\n",
    "estimator.fit(X_train, y_train)\n",
    "y_prediction = [estimator.predict(x) for x in X_test]\n",
    "mean_squared_error(y_prediction, y_test)"
   ]
  },
  {
   "cell_type": "code",
   "execution_count": 100,
   "metadata": {
    "collapsed": false
   },
   "outputs": [
    {
     "name": "stderr",
     "output_type": "stream",
     "text": [
      "/usr/local/lib/python2.7/site-packages/ipykernel/__main__.py:56: FutureWarning: comparison to `None` will result in an elementwise object comparison in the future.\n"
     ]
    },
    {
     "data": {
      "text/plain": [
       "47.125743272332706"
      ]
     },
     "execution_count": 100,
     "metadata": {},
     "output_type": "execute_result"
    }
   ],
   "source": [
    "estimator = DecisionTree(max_depth=5)\n",
    "estimator.fit(X_train, y_train)\n",
    "y_prediction = [estimator.predict(x) for x in X_test]\n",
    "mean_squared_error(y_prediction, y_test)"
   ]
  },
  {
   "cell_type": "code",
   "execution_count": 102,
   "metadata": {
    "collapsed": false
   },
   "outputs": [
    {
     "name": "stdout",
     "output_type": "stream",
     "text": [
      "1\n",
      "2\n",
      "3\n"
     ]
    },
    {
     "name": "stderr",
     "output_type": "stream",
     "text": [
      "/usr/local/lib/python2.7/site-packages/ipykernel/__main__.py:56: FutureWarning: comparison to `None` will result in an elementwise object comparison in the future.\n"
     ]
    },
    {
     "name": "stdout",
     "output_type": "stream",
     "text": [
      "4\n",
      "5\n",
      "6\n",
      "7\n",
      "8\n",
      "9\n"
     ]
    }
   ],
   "source": [
    "errors = []\n",
    "for n in range(1, 10):\n",
    "    print(n)\n",
    "    estimator = DecisionTree(max_depth=n)\n",
    "    estimator.fit(X_train, y_train)\n",
    "    y_prediction = [estimator.predict(x) for x in X_test]\n",
    "    errors.append(mean_squared_error(y_prediction, y_test))"
   ]
  },
  {
   "cell_type": "code",
   "execution_count": 104,
   "metadata": {
    "collapsed": false
   },
   "outputs": [
    {
     "name": "stdout",
     "output_type": "stream",
     "text": [
      "10\n"
     ]
    },
    {
     "name": "stderr",
     "output_type": "stream",
     "text": [
      "/usr/local/lib/python2.7/site-packages/ipykernel/__main__.py:56: FutureWarning: comparison to `None` will result in an elementwise object comparison in the future.\n"
     ]
    },
    {
     "name": "stdout",
     "output_type": "stream",
     "text": [
      "11\n",
      "12\n",
      "13\n",
      "14\n"
     ]
    }
   ],
   "source": [
    "for n in range(10, 15):\n",
    "    print(n)\n",
    "    estimator = DecisionTree(max_depth=n)\n",
    "    estimator.fit(X_train, y_train)\n",
    "    y_prediction = [estimator.predict(x) for x in X_test]\n",
    "    errors.append(mean_squared_error(y_prediction, y_test))"
   ]
  },
  {
   "cell_type": "code",
   "execution_count": 120,
   "metadata": {
    "collapsed": false
   },
   "outputs": [],
   "source": [
    "tree_error = []\n",
    "for n in range(1, 15):\n",
    "    tree_estimator = DecisionTreeRegressor(max_depth=n)\n",
    "    tree_estimator.fit(X_train, y_train)\n",
    "    pr = tree_estimator.predict(X_test)\n",
    "    tree_error.append(mean_squared_error(pr, y_test))"
   ]
  },
  {
   "cell_type": "markdown",
   "metadata": {},
   "source": [
    "Построим график метрики точности:"
   ]
  },
  {
   "cell_type": "code",
   "execution_count": 124,
   "metadata": {
    "collapsed": false
   },
   "outputs": [
    {
     "data": {
      "text/plain": [
       "<matplotlib.legend.Legend at 0x113803690>"
      ]
     },
     "execution_count": 124,
     "metadata": {},
     "output_type": "execute_result"
    },
    {
     "data": {
      "image/png": "[encoded data removed]",
      "text/plain": [
       "<matplotlib.figure.Figure at 0x11351be50>"
      ]
     },
     "metadata": {},
     "output_type": "display_data"
    }
   ],
   "source": [
    "plt.figure(figsize=(15,9))\n",
    "plt.title('Accuracy per max_depth')\n",
    "plt.ylabel('accuracy')\n",
    "plt.xlabel('max_depth')\n",
    "plt.plot(errors, label='my tree')\n",
    "plt.plot(tree_error, label='sklearn tree')\n",
    "plt.legend(loc='best')"
   ]
  },
  {
   "cell_type": "markdown",
   "metadata": {},
   "source": [
    "Как видим, работает немного хуже, чем у реализации из библиотеки."
   ]
  },
  {
   "cell_type": "code",
   "execution_count": null,
   "metadata": {
    "collapsed": true
   },
   "outputs": [],
   "source": []
  }
 ],
 "metadata": {
  "kernelspec": {
   "display_name": "Python 2",
   "language": "python",
   "name": "python2"
  },
  "language_info": {
   "codemirror_mode": {
    "name": "ipython",
    "version": 2
   },
   "file_extension": ".py",
   "mimetype": "text/x-python",
   "name": "python",
   "nbconvert_exporter": "python",
   "pygments_lexer": "ipython2",
   "version": "2.7.13"
  }
 },
 "nbformat": 4,
 "nbformat_minor": 2
}
