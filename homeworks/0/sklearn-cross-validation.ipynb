{
 "cells": [
  {
   "cell_type": "markdown",
   "metadata": {},
   "source": [
    "# Sklearn"
   ]
  },
  {
   "cell_type": "markdown",
   "metadata": {},
   "source": [
    "## sklearn.cross_validation"
   ]
  },
  {
   "cell_type": "markdown",
   "metadata": {},
   "source": [
    "документация: http://scikit-learn.org/stable/modules/cross_validation.html"
   ]
  },
  {
   "cell_type": "code",
   "execution_count": 57,
   "metadata": {
    "collapsed": false
   },
   "outputs": [],
   "source": [
    "from sklearn import datasets\n",
    "import sklearn.model_selection as ms\n",
    "\n",
    "import numpy as np"
   ]
  },
  {
   "cell_type": "markdown",
   "metadata": {},
   "source": [
    "Переписать, используя model_selection"
   ]
  },
  {
   "cell_type": "markdown",
   "metadata": {},
   "source": [
    "### Разовое разбиение данных на обучение и тест с помощью train_test_split"
   ]
  },
  {
   "cell_type": "code",
   "execution_count": 16,
   "metadata": {
    "collapsed": false
   },
   "outputs": [],
   "source": [
    "iris = datasets.load_iris()"
   ]
  },
  {
   "cell_type": "code",
   "execution_count": 17,
   "metadata": {
    "collapsed": false
   },
   "outputs": [],
   "source": [
    "train_data, test_data, train_labels, test_labels = ms.train_test_split(iris.data, iris.target, \n",
    "                                                                                     test_size = 0.3)"
   ]
  },
  {
   "cell_type": "code",
   "execution_count": 5,
   "metadata": {
    "collapsed": false
   },
   "outputs": [
    {
     "data": {
      "text/plain": [
       "0.3"
      ]
     },
     "execution_count": 5,
     "metadata": {},
     "output_type": "execute_result"
    }
   ],
   "source": [
    "#убедимся, что тестовая выборка действительно составляет 0.3 от всех данных\n",
    "float(len(test_labels))/len(iris.data)"
   ]
  },
  {
   "cell_type": "code",
   "execution_count": 6,
   "metadata": {
    "collapsed": false
   },
   "outputs": [
    {
     "name": "stdout",
     "output_type": "stream",
     "text": [
      "Размер обучающей выборки: 105 объектов \n",
      "Размер тестовой выборки: 45 объектов\n"
     ]
    }
   ],
   "source": [
    "print 'Размер обучающей выборки: {} объектов \\nРазмер тестовой выборки: {} объектов'.format(len(train_data),\n",
    "                                                                                            len(test_data))"
   ]
  },
  {
   "cell_type": "code",
   "execution_count": 7,
   "metadata": {
    "collapsed": false
   },
   "outputs": [
    {
     "name": "stdout",
     "output_type": "stream",
     "text": [
      "Обучающая выборка:\n",
      "[[ 4.6  3.2  1.4  0.2]\n",
      " [ 5.   3.   1.6  0.2]\n",
      " [ 5.7  2.8  4.1  1.3]\n",
      " [ 5.6  2.9  3.6  1.3]\n",
      " [ 5.6  2.8  4.9  2. ]]\n",
      "\n",
      "\n",
      "Тестовая выборка:\n",
      "[[ 4.5  2.3  1.3  0.3]\n",
      " [ 6.5  2.8  4.6  1.5]\n",
      " [ 5.6  3.   4.5  1.5]\n",
      " [ 4.4  2.9  1.4  0.2]\n",
      " [ 5.8  2.8  5.1  2.4]]\n"
     ]
    }
   ],
   "source": [
    "print 'Обучающая выборка:\\n', train_data[:5]\n",
    "print '\\n'\n",
    "print 'Тестовая выборка:\\n', test_data[:5]"
   ]
  },
  {
   "cell_type": "code",
   "execution_count": 9,
   "metadata": {
    "collapsed": false
   },
   "outputs": [
    {
     "name": "stdout",
     "output_type": "stream",
     "text": [
      "Метки классов на обучающей выборке:\n",
      "[0 0 1 1 2 0 0 0 0 2 2 2 1 1 1 2 0 1 2 2 1 2 0 1 2 0 1 2 0 2 2 2 0 0 1 0 2\n",
      " 2 2 1 0 0 2 1 0 2 1 2 2 2 1 1 0 1 2 2 1 1 1 2 1 2 0 2 2 2 1 2 0 0 1 0 2 0\n",
      " 0 1 1 1 2 2 2 1 2 2 0 1 2 1 1 0 0 2 0 1 2 0 2 0 2 2 0 1 0 1 2]\n",
      "\n",
      "\n",
      "Метки классов на тестовой выборке:\n",
      "[0 1 1 0 2 0 2 2 1 2 1 1 0 0 0 1 0 1 1 0 2 2 1 1 1 0 1 0 0 2 1 0 0 1 0 0 2\n",
      " 0 0 1 1 1 0 1 0]\n"
     ]
    }
   ],
   "source": [
    "print 'Метки классов на обучающей выборке:\\n', train_labels\n",
    "print '\\n'\n",
    "print 'Метки классов на тестовой выборке:\\n', test_labels"
   ]
  },
  {
   "cell_type": "markdown",
   "metadata": {},
   "source": [
    "### Стратегии проведения кросс-валидации"
   ]
  },
  {
   "cell_type": "markdown",
   "metadata": {},
   "source": [
    "#### KFold"
   ]
  },
  {
   "cell_type": "code",
   "execution_count": 28,
   "metadata": {
    "collapsed": false
   },
   "outputs": [
    {
     "name": "stdout",
     "output_type": "stream",
     "text": [
      "[2 3 4 5 6 7 8 9] [0 1]\n",
      "[0 1 4 5 6 7 8 9] [2 3]\n",
      "[0 1 2 3 6 7 8 9] [4 5]\n",
      "[0 1 2 3 4 5 8 9] [6 7]\n",
      "[0 1 2 3 4 5 6 7] [8 9]\n"
     ]
    }
   ],
   "source": [
    "for train_indexes, test_indexes in ms.KFold(n_splits=5).split(np.arange(10)):\n",
    "    print train_indexes, test_indexes"
   ]
  },
  {
   "cell_type": "code",
   "execution_count": 29,
   "metadata": {
    "collapsed": false
   },
   "outputs": [
    {
     "name": "stdout",
     "output_type": "stream",
     "text": [
      "[1 4 5 6 9] [0 2 3 7 8]\n",
      "[0 2 3 7 8] [1 4 5 6 9]\n"
     ]
    }
   ],
   "source": [
    "#многократный запуск приводит к различным разбиениям\n",
    "for train_indices, test_indices in ms.KFold(n_splits = 2, shuffle = True).split(np.arange(10)):\n",
    "    print train_indices, test_indices"
   ]
  },
  {
   "cell_type": "code",
   "execution_count": 30,
   "metadata": {
    "collapsed": false
   },
   "outputs": [
    {
     "name": "stdout",
     "output_type": "stream",
     "text": [
      "[1 3 5 7 8] [0 2 4 6 9]\n",
      "[0 2 4 6 9] [1 3 5 7 8]\n"
     ]
    }
   ],
   "source": [
    "#многократный запуск приводит к одному и  тому же разбиению, результат запуска детерминированный\n",
    "for train_indices, test_indices in ms.KFold(n_splits = 2, shuffle = True, random_state = 1).split(np.arange(10)):\n",
    "    print train_indices, test_indices"
   ]
  },
  {
   "cell_type": "markdown",
   "metadata": {},
   "source": [
    "#### StratifiedKFold"
   ]
  },
  {
   "cell_type": "code",
   "execution_count": 36,
   "metadata": {
    "collapsed": false
   },
   "outputs": [
    {
     "name": "stdout",
     "output_type": "stream",
     "text": [
      "[0 0 0 0 0 1 1 1 1 1]\n",
      "[3 4 8 9] [0 1 2 5 6 7]\n",
      "[0 1 2 5 6 7] [3 4 8 9]\n"
     ]
    }
   ],
   "source": [
    "target = np.array([0] * 5 + [1] * 5)\n",
    "print target\n",
    "kf =  ms.StratifiedKFold(n_splits = 2, shuffle = True, random_state = 0)\n",
    "for train_indices, test_indices in kf.split(np.arange(len(target)), target):\n",
    "    print train_indices, test_indices"
   ]
  },
  {
   "cell_type": "code",
   "execution_count": 40,
   "metadata": {
    "collapsed": false
   },
   "outputs": [
    {
     "name": "stdout",
     "output_type": "stream",
     "text": [
      "[0 1 0 1 0 1 0 1 0 1]\n",
      "[0 1 4 5] [2 3 6 7 8 9]\n",
      "[2 3 6 7 8 9] [0 1 4 5]\n"
     ]
    }
   ],
   "source": [
    "target = np.array([0, 1] * 5)\n",
    "print target\n",
    "for train_indices, test_indices in ms.StratifiedKFold(n_splits = 2,shuffle = True).split(np.arange(len(target)), target):\n",
    "    print train_indices, test_indices"
   ]
  },
  {
   "cell_type": "markdown",
   "metadata": {},
   "source": [
    "#### ShuffleSplit"
   ]
  },
  {
   "cell_type": "code",
   "execution_count": 53,
   "metadata": {
    "collapsed": false
   },
   "outputs": [
    {
     "name": "stdout",
     "output_type": "stream",
     "text": [
      "[2 5 6 0 1 3 8 4] [9 7]\n",
      "[2 6 9 3 1 7 0 8] [4 5]\n",
      "[0 5 7 8 3 2 4 9] [1 6]\n",
      "[8 6 2 1 4 5 3 9] [7 0]\n"
     ]
    }
   ],
   "source": [
    "for train_indices, test_indices in ms.ShuffleSplit(n_splits = 4, test_size = 0.2).split(np.arange(10)):\n",
    "    print train_indices, test_indices"
   ]
  },
  {
   "cell_type": "markdown",
   "metadata": {},
   "source": [
    "#### StratifiedShuffleSplit"
   ]
  },
  {
   "cell_type": "code",
   "execution_count": 14,
   "metadata": {
    "collapsed": false
   },
   "outputs": [
    {
     "name": "stdout",
     "output_type": "stream",
     "text": [
      "[0 0 0 0 0 1 1 1 1 1]\n",
      "[3 9 5 0 8 7 1 4] [2 6]\n",
      "[3 7 0 9 4 1 5 8] [2 6]\n",
      "[8 3 9 0 1 5 4 6] [2 7]\n",
      "[8 4 1 9 2 5 0 7] [3 6]\n"
     ]
    }
   ],
   "source": [
    "target = np.array([0] * 5 + [1] * 5)\n",
    "print target\n",
    "for train_indices, test_indices in cross_validation.StratifiedShuffleSplit(target, n_iter = 4, test_size = 0.2):\n",
    "    print train_indices, test_indices"
   ]
  },
  {
   "cell_type": "code",
   "execution_count": 54,
   "metadata": {
    "collapsed": false
   },
   "outputs": [
    {
     "name": "stdout",
     "output_type": "stream",
     "text": [
      "[0 0 0 0 0 1 1 1 1 1]\n",
      "[0 5 3 9 4 1 7 8] [6 2]\n",
      "[3 9 0 5 4 8 6 2] [7 1]\n",
      "[4 8 5 7 0 1 6 2] [9 3]\n",
      "[4 7 0 1 9 5 6 2] [3 8]\n"
     ]
    }
   ],
   "source": [
    "target = np.array([0] * 5 + [1] * 5)\n",
    "print target\n",
    "for train_indices, test_indices in ms.StratifiedShuffleSplit(n_splits = 4, test_size = 0.2).split(np.arange(len(target)), target):\n",
    "    print train_indices, test_indices"
   ]
  },
  {
   "cell_type": "markdown",
   "metadata": {},
   "source": [
    "#### Leave-One-Out"
   ]
  },
  {
   "cell_type": "code",
   "execution_count": 56,
   "metadata": {
    "collapsed": false
   },
   "outputs": [
    {
     "name": "stdout",
     "output_type": "stream",
     "text": [
      "[1 2 3 4 5 6 7 8 9] [0]\n",
      "[0 2 3 4 5 6 7 8 9] [1]\n",
      "[0 1 3 4 5 6 7 8 9] [2]\n",
      "[0 1 2 4 5 6 7 8 9] [3]\n",
      "[0 1 2 3 5 6 7 8 9] [4]\n",
      "[0 1 2 3 4 6 7 8 9] [5]\n",
      "[0 1 2 3 4 5 7 8 9] [6]\n",
      "[0 1 2 3 4 5 6 8 9] [7]\n",
      "[0 1 2 3 4 5 6 7 9] [8]\n",
      "[0 1 2 3 4 5 6 7 8] [9]\n"
     ]
    }
   ],
   "source": [
    "for train_indices, test_index in ms.LeaveOneOut().split(np.arange(10)):\n",
    "    print train_indices, test_index"
   ]
  },
  {
   "cell_type": "markdown",
   "metadata": {},
   "source": [
    "Больше стратегий проведения кросс-валидации доступно здесь: http://scikit-learn.org/stable/modules/cross_validation.html#cross-validation-iterators"
   ]
  },
  {
   "cell_type": "code",
   "execution_count": null,
   "metadata": {
    "collapsed": true
   },
   "outputs": [],
   "source": []
  },
  {
   "cell_type": "code",
   "execution_count": null,
   "metadata": {
    "collapsed": true
   },
   "outputs": [],
   "source": []
  }
 ],
 "metadata": {
  "anaconda-cloud": {},
  "kernelspec": {
   "display_name": "Python [Root]",
   "language": "python",
   "name": "Python [Root]"
  },
  "language_info": {
   "codemirror_mode": {
    "name": "ipython",
    "version": 2
   },
   "file_extension": ".py",
   "mimetype": "text/x-python",
   "name": "python",
   "nbconvert_exporter": "python",
   "pygments_lexer": "ipython2",
   "version": "2.7.12"
  }
 },
 "nbformat": 4,
 "nbformat_minor": 0
}
