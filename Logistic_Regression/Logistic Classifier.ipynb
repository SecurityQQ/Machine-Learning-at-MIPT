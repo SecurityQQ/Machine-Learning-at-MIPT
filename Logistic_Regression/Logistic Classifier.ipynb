{
 "cells": [
  {
   "cell_type": "code",
   "execution_count": 12,
   "metadata": {
    "collapsed": true,
    "deletable": true,
    "editable": true
   },
   "outputs": [],
   "source": [
    "# -*- coding: utf-8 -*-\n",
    "\n",
    "import numpy as np\n",
    "from scipy import special\n",
    "from sklearn.base import ClassifierMixin, BaseEstimator\n",
    "from sklearn.datasets import make_classification\n",
    "from scipy.special import expit\n",
    "\n",
    "# Используйте scipy.special для вычисления численно неустойчивых функций\n",
    "# https://docs.scipy.org/doc/scipy/reference/special.html#module-scipy.special"
   ]
  },
  {
   "cell_type": "code",
   "execution_count": 13,
   "metadata": {
    "collapsed": false,
    "deletable": true,
    "editable": true
   },
   "outputs": [],
   "source": [
    "def lossf(w, X, y, l1, l2):\n",
    "    \"\"\"\n",
    "    Вычисление функции потерь.\n",
    "\n",
    "    :param w: numpy.array размера  (M,) dtype = np.float\n",
    "    :param X: numpy.array размера  (N, M), dtype = np.float\n",
    "    :param y: numpy.array размера  (N,), dtype = np.int\n",
    "    :param l1: float, l1 коэффициент регуляризатора \n",
    "    :param l2: float, l2 коэффициент регуляризатора \n",
    "    :return: float, значение функции потерь\n",
    "    \"\"\"\n",
    "    lossf = np.sum(np.logaddexp(0, -y * X.dot(w))) + l1 * np.sum(np.abs(w)) + l2 * np.sum(w ** 2)\n",
    "    return lossf"
   ]
  },
  {
   "cell_type": "code",
   "execution_count": 14,
   "metadata": {
    "collapsed": false,
    "deletable": true,
    "editable": true
   },
   "outputs": [],
   "source": [
    "def gradf(w, X, y, l1, l2):\n",
    "    \"\"\"\n",
    "    Вычисление градиента функции потерь.\n",
    "\n",
    "    :param w: numpy.array размера  (M,), dtype = np.float\n",
    "    :param X: numpy.array размера  (N, M), dtype = np.float\n",
    "    :param y: numpy.array размера  (N,), dtype = np.int\n",
    "    :param l1: float, l1 коэффициент регуляризатора \n",
    "    :param l2: float, l2 коэффициент регуляризатора \n",
    "    :return: numpy.array размера  (M,), dtype = np.float, градиент функции потерь d lossf / dw\n",
    "    \"\"\"\n",
    "    gradw = (-y * expit(-y * X.dot(w))).dot(X) + l1 * np.sign(w) + 2 * l2*w\n",
    "    return gradw"
   ]
  },
  {
   "cell_type": "code",
   "execution_count": 15,
   "metadata": {
    "collapsed": true,
    "deletable": true,
    "editable": true
   },
   "outputs": [],
   "source": [
    "class LR(ClassifierMixin, BaseEstimator):\n",
    "    def __init__(self, lr=1, l1=1e-4, l2=1e-4, num_iter=1000, verbose=0):\n",
    "        \"\"\"\n",
    "        Создание класса для лог регрессии\n",
    "        \n",
    "        :param lr: float, длина шага для оптимизатора\n",
    "        :param l1: float, l1 коэффициент регуляризатора \n",
    "        :param l2: float, l2 коэффициент регуляризатора\n",
    "        :param num_iter: int, число итераций оптимизатора\n",
    "        :param verbose: bool, ключик для вывода\n",
    "        \"\"\"\n",
    "        self.l1 = l1\n",
    "        self.l2 = l2\n",
    "        self.w = None\n",
    "        self.lr = lr\n",
    "        self.verbose = verbose\n",
    "        self.num_iter = num_iter\n",
    "        \n",
    "    def fit(self, X, y):\n",
    "        \"\"\"\n",
    "        Обучение логистической регрессии.\n",
    "        Настраивает self.w коэффициенты модели.\n",
    "\n",
    "        Если self.verbose == True, то выводите значение \n",
    "        функции потерь на итерациях метода оптимизации. \n",
    "\n",
    "        :param X: numpy.array размера  (N, M), dtype = np.float\n",
    "        :param y: numpy.array размера  (N,), dtype = np.int\n",
    "        :return: self\n",
    "        \"\"\"\n",
    "        n, d = X.shape\n",
    "        step_size = self.lr\n",
    "        self.w = np.ones(d)\n",
    "        for step in np.arange(self.num_iter):\n",
    "            if self.verbose:\n",
    "                print lossf(self.w, X, y, self.l1, self.l2)\n",
    "            self.w = self.w - gradf(self.w, X, y, self.l1, self.l2) * step_size\n",
    "        return self\n",
    "        \n",
    "    def predict_proba(self, X):\n",
    "        \"\"\"\n",
    "        Предсказание вероятности принадлежности объекта к классу 1.\n",
    "        Возвращает np.array размера (N,) чисел в отрезке от 0 до 1.\n",
    "\n",
    "        :param X: numpy.array размера  (N, M), dtype = np.float\n",
    "        :return: numpy.array размера  (N,), dtype = np.float\n",
    "        \"\"\"\n",
    "        # Вычислите вероятности принадлежности каждого \n",
    "        # объекта из X к положительному классу, используйте\n",
    "        # эту функцию для реализации LR.predict\n",
    "        probs = expit(X.dot(self.w))\n",
    "        return probs\n",
    "    \n",
    "    def predict(self, X):\n",
    "        \"\"\"\n",
    "        Предсказание класса для объекта.\n",
    "        Возвращает np.array размера (N,) элементов 1 или -1.\n",
    "\n",
    "        :param X: numpy.array размера  (N, M), dtype = np.float\n",
    "        :return:  numpy.array размера  (N,), dtype = np.int\n",
    "        \"\"\"\n",
    "        # Вычислите предсказания для каждого объекта из X\n",
    "        predicts = np.sign(self.predict_proba(X) - 0.5)\n",
    "        return predicts "
   ]
  },
  {
   "cell_type": "code",
   "execution_count": 16,
   "metadata": {
    "collapsed": true,
    "deletable": true,
    "editable": true
   },
   "outputs": [],
   "source": [
    "def test_work():\n",
    "    print \"Start test\"\n",
    "    X, y = make_classification(n_features=100, n_samples=1000)\n",
    "    y = 2 * (y - 0.5)\n",
    "\n",
    "    try:\n",
    "        clf = LR(lr=1, l1=1e-4, l2=1e-4, num_iter=1000, verbose=0)\n",
    "    except Exception:\n",
    "        assert False, \"Создание модели завершается с ошибкой\"\n",
    "        return\n",
    "\n",
    "    try:\n",
    "        clf = clf.fit(X, y)\n",
    "    except Exception:\n",
    "        assert False, \"Обучение модели завершается с ошибкой\"\n",
    "        return\n",
    "\n",
    "    assert isinstance(lossf(clf.w, X, y, 1e-3, 1e-3), float), \"Функция потерь должна быть скалярной и иметь тип np.float\"\n",
    "    assert gradf(clf.w, X, y, 1e-3, 1e-3).shape == (100,), \"Размерность градиента должна совпадать с числом параметров\"\n",
    "    assert gradf(clf.w, X, y, 1e-3, 1e-3).dtype == np.float, \"Вектор градиента, должен состоять из элементов типа np.float\"\n",
    "    assert clf.predict(X).shape == (1000,), \"Размер вектора предсказаний, должен совпадать с количеством объектов\"\n",
    "    assert np.min(clf.predict_proba(X)) >= 0, \"Вероятности должны быть не меньше, чем 0\"\n",
    "    assert np.max(clf.predict_proba(X)) <= 1, \"Вероятности должны быть не больше, чем 1\"\n",
    "    assert len(set(clf.predict(X))) == 2, \"Метод предсказывает больше чем 2 класса на двух классовой задаче\"\n",
    "    print \"End tests\""
   ]
  },
  {
   "cell_type": "code",
   "execution_count": 17,
   "metadata": {
    "collapsed": false,
    "deletable": true,
    "editable": true
   },
   "outputs": [
    {
     "name": "stdout",
     "output_type": "stream",
     "text": [
      "Start test\n",
      "End tests\n"
     ]
    }
   ],
   "source": [
    "test_work()"
   ]
  },
  {
   "cell_type": "code",
   "execution_count": 18,
   "metadata": {
    "collapsed": true,
    "deletable": true,
    "editable": true
   },
   "outputs": [],
   "source": [
    "from sklearn.linear_model import LogisticRegression"
   ]
  },
  {
   "cell_type": "code",
   "execution_count": 19,
   "metadata": {
    "collapsed": true,
    "deletable": true,
    "editable": true
   },
   "outputs": [],
   "source": [
    "lr_sklearn = LogisticRegression(penalty='l2', random_state=42, max_iter=1000)"
   ]
  },
  {
   "cell_type": "code",
   "execution_count": 20,
   "metadata": {
    "collapsed": true,
    "deletable": true,
    "editable": true
   },
   "outputs": [],
   "source": [
    "my_lr = LR(lr=0.1, l1=1e-4, l2=1e-4, num_iter=1000, verbose=0)"
   ]
  },
  {
   "cell_type": "code",
   "execution_count": 21,
   "metadata": {
    "collapsed": true,
    "deletable": true,
    "editable": true
   },
   "outputs": [],
   "source": [
    "X, Y = make_classification(n_features=100, n_samples=2000)\n",
    "Y = 2 * (Y - 0.5)"
   ]
  },
  {
   "cell_type": "code",
   "execution_count": 23,
   "metadata": {
    "collapsed": true,
    "deletable": true,
    "editable": true
   },
   "outputs": [],
   "source": [
    "from sklearn.model_selection import cross_val_score"
   ]
  },
  {
   "cell_type": "code",
   "execution_count": 24,
   "metadata": {
    "collapsed": false,
    "deletable": true,
    "editable": true
   },
   "outputs": [
    {
     "name": "stdout",
     "output_type": "stream",
     "text": [
      "CPU times: user 71.2 ms, sys: 4.51 ms, total: 75.7 ms\n",
      "Wall time: 84.7 ms\n"
     ]
    },
    {
     "data": {
      "text/plain": [
       "0.92349834864804936"
      ]
     },
     "execution_count": 24,
     "metadata": {},
     "output_type": "execute_result"
    }
   ],
   "source": [
    "%%time\n",
    "cross_val_score(lr_sklearn, X, Y).mean()"
   ]
  },
  {
   "cell_type": "code",
   "execution_count": 25,
   "metadata": {
    "collapsed": false,
    "deletable": true,
    "editable": true
   },
   "outputs": [
    {
     "name": "stdout",
     "output_type": "stream",
     "text": [
      "CPU times: user 510 ms, sys: 70.2 ms, total: 581 ms\n",
      "Wall time: 514 ms\n"
     ]
    },
    {
     "data": {
      "text/plain": [
       "0.89446632261003511"
      ]
     },
     "execution_count": 25,
     "metadata": {},
     "output_type": "execute_result"
    }
   ],
   "source": [
    "%%time\n",
    "cross_val_score(my_lr, X, Y).mean()"
   ]
  },
  {
   "cell_type": "code",
   "execution_count": null,
   "metadata": {
    "collapsed": true,
    "deletable": true,
    "editable": true
   },
   "outputs": [],
   "source": []
  },
  {
   "cell_type": "code",
   "execution_count": null,
   "metadata": {
    "collapsed": true,
    "deletable": true,
    "editable": true
   },
   "outputs": [],
   "source": []
  }
 ],
 "metadata": {
  "kernelspec": {
   "display_name": "Python 2",
   "language": "python",
   "name": "python2"
  },
  "language_info": {
   "codemirror_mode": {
    "name": "ipython",
    "version": 2
   },
   "file_extension": ".py",
   "mimetype": "text/x-python",
   "name": "python",
   "nbconvert_exporter": "python",
   "pygments_lexer": "ipython2",
   "version": "2.7.13"
  }
 },
 "nbformat": 4,
 "nbformat_minor": 2
}
